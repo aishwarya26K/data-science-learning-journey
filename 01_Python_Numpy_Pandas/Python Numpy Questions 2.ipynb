{
 "cells": [
  {
   "cell_type": "markdown",
   "id": "b8c70334-5879-44cb-a2fb-c44d1dbea09b",
   "metadata": {},
   "source": [
    "# Basic Operations and Arrays"
   ]
  },
  {
   "cell_type": "code",
   "execution_count": 1,
   "id": "c518e8e0-3b56-4898-a2a5-918f955fccfa",
   "metadata": {},
   "outputs": [],
   "source": [
    "import numpy as np"
   ]
  },
  {
   "cell_type": "markdown",
   "id": "6561e58c-0fbc-4d1d-955f-6d2c222174f1",
   "metadata": {},
   "source": [
    "## 1. Write a NumPy program to get help with the add function."
   ]
  },
  {
   "cell_type": "code",
   "execution_count": 2,
   "id": "4044c3f0-0d25-4095-835f-06b42e0d7422",
   "metadata": {},
   "outputs": [
    {
     "name": "stdout",
     "output_type": "stream",
     "text": [
      "add(x1, x2, /, out=None, *, where=True, casting='same_kind', order='K', dtype=None, subok=True[, signature, extobj])\n",
      "\n",
      "Add arguments element-wise.\n",
      "\n",
      "Parameters\n",
      "----------\n",
      "x1, x2 : array_like\n",
      "    The arrays to be added.\n",
      "    If ``x1.shape != x2.shape``, they must be broadcastable to a common\n",
      "    shape (which becomes the shape of the output).\n",
      "out : ndarray, None, or tuple of ndarray and None, optional\n",
      "    A location into which the result is stored. If provided, it must have\n",
      "    a shape that the inputs broadcast to. If not provided or None,\n",
      "    a freshly-allocated array is returned. A tuple (possible only as a\n",
      "    keyword argument) must have length equal to the number of outputs.\n",
      "where : array_like, optional\n",
      "    This condition is broadcast over the input. At locations where the\n",
      "    condition is True, the `out` array will be set to the ufunc result.\n",
      "    Elsewhere, the `out` array will retain its original value.\n",
      "    Note that if an uninitialized `out` array is created via the default\n",
      "    ``out=None``, locations within it where the condition is False will\n",
      "    remain uninitialized.\n",
      "**kwargs\n",
      "    For other keyword-only arguments, see the\n",
      "    :ref:`ufunc docs <ufuncs.kwargs>`.\n",
      "\n",
      "Returns\n",
      "-------\n",
      "add : ndarray or scalar\n",
      "    The sum of `x1` and `x2`, element-wise.\n",
      "    This is a scalar if both `x1` and `x2` are scalars.\n",
      "\n",
      "Notes\n",
      "-----\n",
      "Equivalent to `x1` + `x2` in terms of array broadcasting.\n",
      "\n",
      "Examples\n",
      "--------\n",
      ">>> np.add(1.0, 4.0)\n",
      "5.0\n",
      ">>> x1 = np.arange(9.0).reshape((3, 3))\n",
      ">>> x2 = np.arange(3.0)\n",
      ">>> np.add(x1, x2)\n",
      "array([[  0.,   2.,   4.],\n",
      "       [  3.,   5.,   7.],\n",
      "       [  6.,   8.,  10.]])\n",
      "\n",
      "The ``+`` operator can be used as a shorthand for ``np.add`` on ndarrays.\n",
      "\n",
      ">>> x1 = np.arange(9.0).reshape((3, 3))\n",
      ">>> x2 = np.arange(3.0)\n",
      ">>> x1 + x2\n",
      "array([[ 0.,  2.,  4.],\n",
      "       [ 3.,  5.,  7.],\n",
      "       [ 6.,  8., 10.]])\n",
      "None\n"
     ]
    }
   ],
   "source": [
    "print(np.info(np.add))"
   ]
  },
  {
   "cell_type": "markdown",
   "id": "530df12f-2c36-45ac-86dd-052a852c51bb",
   "metadata": {},
   "source": [
    "print(np.info(np.add)) prints information about the np.add function, which is a function in NumPy used for element-wise addition of two arrays. The np.info() function provides detailed information about a given NumPy function or class, including a description, input parameters, return values, and examples of usage."
   ]
  },
  {
   "cell_type": "markdown",
   "id": "dd9f7520-ba6e-4d16-a2b5-1337176a7477",
   "metadata": {},
   "source": [
    "## 2. Write a NumPy program to test whether none of the elements of a given array are zero. "
   ]
  },
  {
   "cell_type": "code",
   "execution_count": 3,
   "id": "224184f3-3db4-43fb-9182-8105c14b46f4",
   "metadata": {},
   "outputs": [
    {
     "name": "stdout",
     "output_type": "stream",
     "text": [
      "[1 2 3 4]\n",
      "True\n",
      "[1 0 2 3 4]\n",
      "False\n"
     ]
    }
   ],
   "source": [
    "x = np.array([1,2,3,4])\n",
    "print(x)\n",
    "print(np.all(x))\n",
    "\n",
    "x = np.array([1,0,2,3,4])\n",
    "print(x)\n",
    "print(np.all(x))"
   ]
  },
  {
   "cell_type": "markdown",
   "id": "bb3aa7bc-5b47-4064-9e30-6051e5e1285a",
   "metadata": {},
   "source": [
    "x = np.array([1, 2, 3, 4]): This line creates a NumPy array 'x' with the elements 1, 2, 3, and 4.\n",
    "\n",
    "print(np.all(x)): This line uses the np.all() function to test if all elements in the array 'x' are non-zero (i.e., not equal to zero). In this case, all elements are non-zero, so the function returns True."
   ]
  },
  {
   "cell_type": "markdown",
   "id": "79fea275-2326-4467-8c31-ede37798010f",
   "metadata": {},
   "source": [
    "## 3. Write a NumPy program to test if any of the elements of a given array are non-zero. "
   ]
  },
  {
   "cell_type": "code",
   "execution_count": 4,
   "id": "5d510ccd-cc06-45b9-a93d-d5fcbc93ecf8",
   "metadata": {},
   "outputs": [
    {
     "name": "stdout",
     "output_type": "stream",
     "text": [
      "[1 0 0 0]\n",
      "True\n",
      "[0 0 0 0]\n",
      "False\n"
     ]
    }
   ],
   "source": [
    "x = np.array([1,0,0,0])\n",
    "print(x)\n",
    "print(np.any(x))\n",
    "\n",
    "x = np.array([0,0,0,0])\n",
    "print(x)\n",
    "print(np.any(x))"
   ]
  },
  {
   "cell_type": "markdown",
   "id": "52879f5b-2f6d-4089-92e5-d87b681e9671",
   "metadata": {},
   "source": [
    "x = np.array([1, 0, 0, 0]): This line creates a NumPy array 'x' with the elements 1, 0, 0, and 0.\n",
    "\n",
    "print(np.any(x)): This line uses the np.any() function to test if any elements in the array 'x' are non-zero (i.e., not equal to zero). In this case, the first element is non-zero, so the function returns True."
   ]
  },
  {
   "cell_type": "markdown",
   "id": "6d299d8f-241d-4789-b721-31bf63ecd25d",
   "metadata": {},
   "source": [
    "## 4. Write a NumPy program to test a given array element-wise for finiteness (not infinity or not a number)."
   ]
  },
  {
   "cell_type": "code",
   "execution_count": 5,
   "id": "179bbb63-d556-4f8e-b3a1-9301fa03d98e",
   "metadata": {},
   "outputs": [
    {
     "name": "stdout",
     "output_type": "stream",
     "text": [
      "[ 1.  0. nan inf]\n",
      "[ True  True False False]\n"
     ]
    }
   ],
   "source": [
    "a = np.array([1,0,np.nan,np.inf])\n",
    "print(a)\n",
    "print(np.isfinite(a))"
   ]
  },
  {
   "cell_type": "markdown",
   "id": "03f04c71-af18-4212-8d0e-337d16d9cf49",
   "metadata": {},
   "source": [
    "## 5. Write a NumPy program to test elements-wise for positive or negative infinity. "
   ]
  },
  {
   "cell_type": "code",
   "execution_count": 6,
   "id": "bab2bfc8-5862-4cf9-a5a7-35529191749f",
   "metadata": {},
   "outputs": [
    {
     "name": "stdout",
     "output_type": "stream",
     "text": [
      "[ 1.  -2.   inf -inf  0.   3.5]\n",
      "Element-wise positive infinity check: [False False  True False False False]\n",
      "Element-wise negative infinity check: [False False False  True False False]\n"
     ]
    }
   ],
   "source": [
    "a = np.array([1,-2,np.inf,-np.inf,0,3.5])\n",
    "print(a)\n",
    "print(\"Element-wise positive infinity check:\", np.isposinf(a))\n",
    "print(\"Element-wise negative infinity check:\", np.isneginf(a))"
   ]
  },
  {
   "cell_type": "markdown",
   "id": "874364a1-ac3d-4375-b6b6-a39aa7a0ee78",
   "metadata": {},
   "source": [
    "## 6. Write a NumPy program to test element-wise for NaN of a given array."
   ]
  },
  {
   "cell_type": "code",
   "execution_count": 7,
   "id": "2785ec60-ee35-4427-95a9-99853e5ae091",
   "metadata": {},
   "outputs": [
    {
     "name": "stdout",
     "output_type": "stream",
     "text": [
      "[ 1.  0. nan inf]\n",
      "[False False  True False]\n"
     ]
    }
   ],
   "source": [
    "a = np.array([1,0,np.nan,np.inf])\n",
    "print(a)\n",
    "print(np.isnan(a))"
   ]
  },
  {
   "cell_type": "markdown",
   "id": "abfe90b2-a8d5-4e6b-ac53-22d198f3b85e",
   "metadata": {},
   "source": [
    "## 7. Write a NumPy program to create an array of 10 zeros, 10 ones, and 10 fives. "
   ]
  },
  {
   "cell_type": "code",
   "execution_count": 8,
   "id": "330ade93-68a8-4675-a219-bb212b79817c",
   "metadata": {},
   "outputs": [
    {
     "name": "stdout",
     "output_type": "stream",
     "text": [
      "[0. 0. 0. 0. 0. 0. 0. 0. 0. 0.]\n",
      "[1. 1. 1. 1. 1. 1. 1. 1. 1. 1.]\n",
      "[5. 5. 5. 5. 5. 5. 5. 5. 5. 5.]\n"
     ]
    }
   ],
   "source": [
    "a = np.zeros(10)\n",
    "print(a)\n",
    "\n",
    "b = np.ones(10)\n",
    "print(b)\n",
    "\n",
    "c = b * 5\n",
    "print(c)"
   ]
  },
  {
   "cell_type": "markdown",
   "id": "6381f619-1a1c-45b3-a551-62072da7e05b",
   "metadata": {},
   "source": [
    "## 8. Write a NumPy program to create an array of integers from 30 to 70."
   ]
  },
  {
   "cell_type": "code",
   "execution_count": 9,
   "id": "dffecf1a-cbca-49b2-8526-0140dcb6ac25",
   "metadata": {},
   "outputs": [
    {
     "name": "stdout",
     "output_type": "stream",
     "text": [
      "[30 31 32 33 34 35 36 37 38 39 40 41 42 43 44 45 46 47 48 49 50 51 52 53\n",
      " 54 55 56 57 58 59 60 61 62 63 64 65 66 67 68 69]\n"
     ]
    }
   ],
   "source": [
    "a = np.arange(30,70)\n",
    "print(a)"
   ]
  },
  {
   "cell_type": "markdown",
   "id": "5d290ac7-d8ea-40fa-9b1a-825eac559395",
   "metadata": {},
   "source": [
    "## 9. Write a NumPy program to create an array of all even integers from 30 to 70."
   ]
  },
  {
   "cell_type": "code",
   "execution_count": 10,
   "id": "23fc5c33-1641-4dc9-a39d-2edb648e27d9",
   "metadata": {},
   "outputs": [
    {
     "name": "stdout",
     "output_type": "stream",
     "text": [
      "[30 32 34 36 38 40 42 44 46 48 50 52 54 56 58 60 62 64 66 68]\n"
     ]
    }
   ],
   "source": [
    "a = np.arange(30,70,2)\n",
    "print(a)"
   ]
  },
  {
   "cell_type": "markdown",
   "id": "652aabcf-971f-4505-904b-caa3423e2b94",
   "metadata": {},
   "source": [
    "## 10. Write a NumPy program to create a 3x3 identity matrix"
   ]
  },
  {
   "cell_type": "code",
   "execution_count": 11,
   "id": "6dbbbba9-4d1f-4efa-87a3-4d2090c3e462",
   "metadata": {},
   "outputs": [
    {
     "name": "stdout",
     "output_type": "stream",
     "text": [
      "[[1. 0. 0.]\n",
      " [0. 1. 0.]\n",
      " [0. 0. 1.]]\n"
     ]
    }
   ],
   "source": [
    "a = np.identity(3)\n",
    "print(a)"
   ]
  },
  {
   "cell_type": "markdown",
   "id": "10199b82-85a2-433a-896f-209d50a9db97",
   "metadata": {},
   "source": [
    "## 11. Write a NumPy program to generate a random number between 0 and 1."
   ]
  },
  {
   "cell_type": "code",
   "execution_count": 12,
   "id": "dd2a570d-cf50-4b3f-86c2-3bf3cbdc0c91",
   "metadata": {},
   "outputs": [
    {
     "name": "stdout",
     "output_type": "stream",
     "text": [
      "[-2.48034026]\n"
     ]
    }
   ],
   "source": [
    "rand_num = np.random.normal(0,1,1)\n",
    "print(rand_num)"
   ]
  },
  {
   "cell_type": "markdown",
   "id": "d6361cdc-fe96-4e8f-b252-d3b2d5cf7778",
   "metadata": {},
   "source": [
    "## 12. Write a NumPy program to generate an array of 15 random numbers from a standard normal distribution."
   ]
  },
  {
   "cell_type": "code",
   "execution_count": 13,
   "id": "53bc19a8-66aa-42d4-a526-21699b021e31",
   "metadata": {},
   "outputs": [
    {
     "name": "stdout",
     "output_type": "stream",
     "text": [
      "[-0.53263557  1.49575388 -0.73484678 -0.26548357 -0.91495241  0.50387967\n",
      "  0.50058525 -2.05360221 -0.01093998 -0.60474394  1.29108698  0.44183097\n",
      "  1.69025125 -0.67277102 -0.29075862]\n"
     ]
    }
   ],
   "source": [
    "rand_num = np.random.normal(0,1,15)\n",
    "print(rand_num)"
   ]
  },
  {
   "cell_type": "markdown",
   "id": "783eaa34-9527-4e87-b383-8a24cae41b8c",
   "metadata": {},
   "source": [
    "## 13. Write a NumPy program to create a 3X4 array and iterate over it."
   ]
  },
  {
   "cell_type": "code",
   "execution_count": 14,
   "id": "28fcc552-db6c-4f2f-9ec8-794651b4757d",
   "metadata": {},
   "outputs": [
    {
     "name": "stdout",
     "output_type": "stream",
     "text": [
      "10 11 12 13 14 15 16 17 18 19 20 21 "
     ]
    }
   ],
   "source": [
    "a = np.arange(10,22).reshape((3,4))\n",
    "a\n",
    "\n",
    "for x in np.nditer(a):\n",
    "    print(x, end=\" \")"
   ]
  },
  {
   "cell_type": "markdown",
   "id": "9af234c2-efe0-4f0f-81df-e00f10d4242e",
   "metadata": {},
   "source": [
    "## 14. Write a NumPy program to create a vector of length 10 with values evenly distributed between 5 and 50."
   ]
  },
  {
   "cell_type": "code",
   "execution_count": 15,
   "id": "fa6f6ff7-872c-465e-b1e3-2dd0fc8caf4b",
   "metadata": {},
   "outputs": [
    {
     "name": "stdout",
     "output_type": "stream",
     "text": [
      "[ 5. 10. 15. 20. 25. 30. 35. 40. 45. 50.]\n"
     ]
    }
   ],
   "source": [
    "v = np.linspace(5, 50, 10)\n",
    "print(v)"
   ]
  },
  {
   "cell_type": "markdown",
   "id": "0844d9a1-232e-4990-8e16-2638750d2c70",
   "metadata": {},
   "source": [
    "## 15. Write a NumPy program to create a vector with values from 0 to 20 and change the sign of the numbers in the range from 9 to 15."
   ]
  },
  {
   "cell_type": "code",
   "execution_count": 16,
   "id": "0e8ec936-c4e3-4f5c-9fa6-2954fdef922a",
   "metadata": {},
   "outputs": [
    {
     "name": "stdout",
     "output_type": "stream",
     "text": [
      "[ 0  1  2  3  4  5  6  7  8  9 10 11 12 13 14 15 16 17 18 19 20]\n",
      "[  0   1   2   3   4   5   6   7   8  -9 -10 -11 -12 -13 -14 -15  16  17\n",
      "  18  19  20]\n"
     ]
    }
   ],
   "source": [
    "x = np.arange(21)\n",
    "print(x)\n",
    "\n",
    "x[(x>=9)&(x<=15)] *= -1\n",
    "print(x)"
   ]
  },
  {
   "cell_type": "markdown",
   "id": "dad21dc9-776a-40ad-9386-953bc87bf3af",
   "metadata": {},
   "source": [
    "## 16. Write a NumPy program to create a 10x10 matrix, in which the elements on the borders will be equal to 1, and inside 0."
   ]
  },
  {
   "cell_type": "code",
   "execution_count": 17,
   "id": "adaa38ce-2d64-426a-a92f-df0be15d76a9",
   "metadata": {},
   "outputs": [
    {
     "name": "stdout",
     "output_type": "stream",
     "text": [
      "[[1. 1. 1. 1. 1. 1. 1. 1. 1. 1.]\n",
      " [1. 0. 0. 0. 0. 0. 0. 0. 0. 1.]\n",
      " [1. 0. 0. 0. 0. 0. 0. 0. 0. 1.]\n",
      " [1. 0. 0. 0. 0. 0. 0. 0. 0. 1.]\n",
      " [1. 0. 0. 0. 0. 0. 0. 0. 0. 1.]\n",
      " [1. 0. 0. 0. 0. 0. 0. 0. 0. 1.]\n",
      " [1. 0. 0. 0. 0. 0. 0. 0. 0. 1.]\n",
      " [1. 0. 0. 0. 0. 0. 0. 0. 0. 1.]\n",
      " [1. 0. 0. 0. 0. 0. 0. 0. 0. 1.]\n",
      " [1. 1. 1. 1. 1. 1. 1. 1. 1. 1.]]\n"
     ]
    }
   ],
   "source": [
    "x = np.ones((10, 10))\n",
    "x[1:-1,1:-1]=0\n",
    "print(x)"
   ]
  },
  {
   "cell_type": "markdown",
   "id": "be7beb64-b6cd-450e-9b2b-8036cd9ce26d",
   "metadata": {},
   "source": [
    "## 17. Write a NumPy program to create a 5x5 zero matrix with elements on the main diagonal equal to 1, 2, 3, 4, 5."
   ]
  },
  {
   "cell_type": "code",
   "execution_count": 18,
   "id": "4e66ae82-7b1a-4def-a1fb-25bac79a178b",
   "metadata": {},
   "outputs": [
    {
     "name": "stdout",
     "output_type": "stream",
     "text": [
      "[[1 0 0 0 0]\n",
      " [0 2 0 0 0]\n",
      " [0 0 3 0 0]\n",
      " [0 0 0 4 0]\n",
      " [0 0 0 0 5]]\n"
     ]
    }
   ],
   "source": [
    "y = np.diag([1,2,3,4,5])\n",
    "print(y)"
   ]
  },
  {
   "cell_type": "markdown",
   "id": "b278c162-e9cc-4f59-81d4-d9604085b6a8",
   "metadata": {},
   "source": [
    "# Statistics"
   ]
  },
  {
   "cell_type": "markdown",
   "id": "804fe471-d645-43b5-8afe-58511560ef0a",
   "metadata": {},
   "source": [
    "## 1. Write a Python program to find the maximum and minimum value of a given flattened array."
   ]
  },
  {
   "cell_type": "code",
   "execution_count": 19,
   "id": "3bb682f6-7b5a-47ed-b936-352cdbe6b408",
   "metadata": {},
   "outputs": [
    {
     "name": "stdout",
     "output_type": "stream",
     "text": [
      "[[0 1]\n",
      " [2 3]]\n",
      "Max: 3\n",
      "Min: 0\n"
     ]
    }
   ],
   "source": [
    "x = np.arange(4).reshape((2, 2))\n",
    "print(x)\n",
    "print(\"Max:\",np.max(x))\n",
    "print(\"Min:\",np.min(x))"
   ]
  },
  {
   "cell_type": "markdown",
   "id": "67bb7080-56ac-47a5-8da1-75222f3ad4c2",
   "metadata": {},
   "source": [
    "## 2. Write a NumPy program to get the minimum and maximum value of a given array along the second axis."
   ]
  },
  {
   "cell_type": "code",
   "execution_count": 20,
   "id": "a05a7bef-60e2-473b-aebf-5cca9e00f82a",
   "metadata": {},
   "outputs": [
    {
     "name": "stdout",
     "output_type": "stream",
     "text": [
      "[[0 1]\n",
      " [2 3]]\n",
      "Maximum Value\n",
      "[1 3]\n",
      "Minimum Value\n",
      "[0 2]\n"
     ]
    }
   ],
   "source": [
    "x = np.arange(4).reshape((2, 2))\n",
    "print(x)\n",
    "\n",
    "print(\"Maximum Value\")\n",
    "print(np.amax(x, 1))\n",
    "print(\"Minimum Value\")\n",
    "print(np.amin(x, 1)) "
   ]
  },
  {
   "cell_type": "markdown",
   "id": "e4114b2d-c5c9-40e4-b762-34d5b4ea7ecb",
   "metadata": {},
   "source": [
    "np.amax(x, 1): Here np.amax(x, 1) returns the maximum value along the 1st axis (rows) of x which is a 2x2 array. This returns a 1D array with 2 elements where each element is the maximum value of its corresponding row in the original x array. "
   ]
  },
  {
   "cell_type": "markdown",
   "id": "9d1dae9e-baa7-4299-8dcf-766e553f2e89",
   "metadata": {},
   "source": [
    "## 3. Write a NumPy program to calculate the difference between the maximum and the minimum values of a given array along the second axis."
   ]
  },
  {
   "cell_type": "code",
   "execution_count": 21,
   "id": "e3ed4fc1-4643-466c-a7d7-6d0c5ffde31f",
   "metadata": {},
   "outputs": [
    {
     "name": "stdout",
     "output_type": "stream",
     "text": [
      "[[ 0  1  2  3  4  5]\n",
      " [ 6  7  8  9 10 11]]\n",
      "[5 5]\n"
     ]
    }
   ],
   "source": [
    "x = np.arange(12).reshape((2, 6))\n",
    "print(x)\n",
    "\n",
    "res = np.amax(x, 1) - np.amin(x, 1) \n",
    "print(res)"
   ]
  },
  {
   "cell_type": "markdown",
   "id": "ffb4b06f-08b5-49b2-a794-b3d9b2ae74e2",
   "metadata": {},
   "source": [
    "## 4. Write a NumPy program to compute the median of flattened given array."
   ]
  },
  {
   "cell_type": "code",
   "execution_count": 22,
   "id": "d355f55c-ad63-482f-82d6-f4867893cdd8",
   "metadata": {},
   "outputs": [
    {
     "name": "stdout",
     "output_type": "stream",
     "text": [
      "[[ 0  1  2  3  4  5]\n",
      " [ 6  7  8  9 10 11]]\n",
      "Median 5.5\n"
     ]
    }
   ],
   "source": [
    "x = np.arange(12).reshape((2, 6))\n",
    "print(x)\n",
    "print(\"Median\", np.median(x))"
   ]
  },
  {
   "cell_type": "markdown",
   "id": "2041ae09-84f6-4609-84e3-7d28aea24f00",
   "metadata": {},
   "source": [
    "## 5. Write a NumPy program to compute the weighted of a given array."
   ]
  },
  {
   "cell_type": "code",
   "execution_count": 23,
   "id": "7bb5d8e3-fdf1-4be9-bc7c-377cf8de621e",
   "metadata": {},
   "outputs": [
    {
     "name": "stdout",
     "output_type": "stream",
     "text": [
      "[0 1 2 3 4]\n",
      "Weighted Average 2.6666666666666665\n"
     ]
    }
   ],
   "source": [
    "x = np.arange(5)\n",
    "print(x)\n",
    "\n",
    "# Creating weights from 1 to 5 using arange\n",
    "weights = np.arange(1, 6)\n",
    "\n",
    "print(\"Weighted Average\", np.average(x, weights=weights))"
   ]
  },
  {
   "cell_type": "markdown",
   "id": "6fafce2d-2c34-417a-a967-9e9dfa503cb7",
   "metadata": {},
   "source": [
    "weights = np.arange(1, 6): Here numpy.arange generates the values [1, 2, 3, 4, 5], which will be used as the weights for the weighted average calculation.\n",
    "\n",
    "The numpy.average function is then used to calculate the weighted average of x using the weights array. "
   ]
  },
  {
   "cell_type": "markdown",
   "id": "d5beb367-d43b-4fcf-b8b4-218e9ef8489c",
   "metadata": {},
   "source": [
    "## 6. Write a NumPy program to compute the mean, standard deviation, and variance of a given array along the second axis."
   ]
  },
  {
   "cell_type": "code",
   "execution_count": 24,
   "id": "a4c883b3-546c-4816-b3e9-1413fb6e8b8c",
   "metadata": {},
   "outputs": [
    {
     "name": "stdout",
     "output_type": "stream",
     "text": [
      "[0 1 2 3 4 5]\n",
      "Mean 2.5\n",
      "Standard Deviation 1.707825127659933\n",
      "Variance 2.9166666666666665\n"
     ]
    }
   ],
   "source": [
    "x = np.arange(6)\n",
    "print(x)\n",
    "\n",
    "print(\"Mean\", np.mean(x))\n",
    "print(\"Standard Deviation\", np.std(x))\n",
    "print(\"Variance\", np.var(x))"
   ]
  },
  {
   "cell_type": "markdown",
   "id": "e9e1cf2f-8416-4815-a0fc-94dd8c57d164",
   "metadata": {},
   "source": [
    "## 7. Write a NumPy program to compute the covariance matrix of two given arrays."
   ]
  },
  {
   "cell_type": "code",
   "execution_count": 25,
   "id": "48febbe4-6486-4d12-aa44-0e825b9f2ff5",
   "metadata": {},
   "outputs": [
    {
     "name": "stdout",
     "output_type": "stream",
     "text": [
      "[0 1 2]\n",
      "[2 1 0]\n",
      "Covariance:\n",
      " [[ 1. -1.]\n",
      " [-1.  1.]]\n"
     ]
    }
   ],
   "source": [
    "x = np.arange(3)\n",
    "print(x)\n",
    "\n",
    "y = np.array([2,1,0])\n",
    "print(y)\n",
    "\n",
    "print(\"Covariance:\\n\", np.cov(x,y))"
   ]
  },
  {
   "cell_type": "markdown",
   "id": "bcd6ad00-cfd8-495f-9a09-321abcbd4d33",
   "metadata": {},
   "source": [
    "## 8. Write a NumPy program to compute cross-correlation of two given arrays."
   ]
  },
  {
   "cell_type": "code",
   "execution_count": 26,
   "id": "4c5053d7-26ec-4af5-9f83-a752727c48a4",
   "metadata": {},
   "outputs": [
    {
     "name": "stdout",
     "output_type": "stream",
     "text": [
      "[0 1 3]\n",
      "[2 4 5]\n",
      "Correlation:\n",
      " [19]\n"
     ]
    }
   ],
   "source": [
    "x = np.array([0, 1, 3])\n",
    "print(x)\n",
    "y = np.array([2, 4, 5])\n",
    "print(y)\n",
    "\n",
    "print(\"Correlation:\\n\",np.correlate(x,y))"
   ]
  },
  {
   "cell_type": "markdown",
   "id": "b80385fd-07cd-4a3b-90e7-ec6d015622f4",
   "metadata": {},
   "source": [
    "# Random"
   ]
  },
  {
   "cell_type": "markdown",
   "id": "59d1a593-3f05-4e0c-a9c0-f710477c7cfa",
   "metadata": {},
   "source": [
    "## 1. Write a NumPy program to generate five random numbers from the normal distribution."
   ]
  },
  {
   "cell_type": "code",
   "execution_count": 27,
   "id": "9390d56d-dcf2-4c05-8ccd-f9bab57d625d",
   "metadata": {},
   "outputs": [
    {
     "name": "stdout",
     "output_type": "stream",
     "text": [
      "[-0.21711141 -2.1231427  -0.35090937 -1.31791128  0.54102927]\n"
     ]
    }
   ],
   "source": [
    "x = np.random.normal(size=5)\n",
    "print(x)"
   ]
  },
  {
   "cell_type": "markdown",
   "id": "610da8de-247f-49d4-bdb4-c91b0159688d",
   "metadata": {},
   "source": [
    "## 2. Write a NumPy program to generate six random integers between 10 and 30."
   ]
  },
  {
   "cell_type": "code",
   "execution_count": 28,
   "id": "cb095c74-6d2e-464c-9987-2839ad63e822",
   "metadata": {},
   "outputs": [
    {
     "name": "stdout",
     "output_type": "stream",
     "text": [
      "[22 20 12 15 23 21]\n"
     ]
    }
   ],
   "source": [
    "x = np.random.randint(low=10, high=30, size=6)\n",
    "print(x)"
   ]
  },
  {
   "cell_type": "markdown",
   "id": "7d2b0c50-fbaa-40a2-9e69-d8d1da3e6da4",
   "metadata": {},
   "source": [
    "## 3. Write a NumPy program to create a 3x3x3 array with random values."
   ]
  },
  {
   "cell_type": "code",
   "execution_count": 29,
   "id": "c0c3985b-f773-4e7d-b762-79befe3bab1e",
   "metadata": {},
   "outputs": [
    {
     "name": "stdout",
     "output_type": "stream",
     "text": [
      "[[[0.36852629 0.81237374 0.89401279]\n",
      "  [0.02958041 0.89753627 0.84019874]\n",
      "  [0.76453837 0.75580942 0.66704028]]\n",
      "\n",
      " [[0.19393635 0.33359936 0.94641179]\n",
      "  [0.63959598 0.76160504 0.82111878]\n",
      "  [0.37567148 0.22286533 0.66377092]]\n",
      "\n",
      " [[0.11350962 0.38258377 0.23334424]\n",
      "  [0.39759325 0.67271569 0.56371406]\n",
      "  [0.75433192 0.49827311 0.69356806]]]\n"
     ]
    }
   ],
   "source": [
    "x = np.random.random((3,3,3))\n",
    "print(x)"
   ]
  },
  {
   "cell_type": "markdown",
   "id": "157a6c5f-9a86-4292-aa11-ffed16edc4c8",
   "metadata": {},
   "source": [
    "## 4. Write a NumPy program to shuffle numbers between 0 and 10."
   ]
  },
  {
   "cell_type": "code",
   "execution_count": 30,
   "id": "ca88e6bf-6cb7-4380-8181-28fe50b2059d",
   "metadata": {},
   "outputs": [
    {
     "name": "stdout",
     "output_type": "stream",
     "text": [
      "[0 9 7 5 2 4 1 3 8 6]\n"
     ]
    }
   ],
   "source": [
    "x = np.arange(10)\n",
    "np.random.shuffle(x)\n",
    "print(x)"
   ]
  },
  {
   "cell_type": "markdown",
   "id": "ce4e6007-028c-4170-8e6e-f5ad26fcbd78",
   "metadata": {},
   "source": [
    "## 5. Write a NumPy program to normalize a 3x3 random matrix."
   ]
  },
  {
   "cell_type": "code",
   "execution_count": 31,
   "id": "f0e53b9e-8c1b-4d13-8063-33e2bb877877",
   "metadata": {},
   "outputs": [
    {
     "name": "stdout",
     "output_type": "stream",
     "text": [
      "[[0.60589231 0.93963677 0.63298951]\n",
      " [0.56069232 0.14283165 0.23636276]\n",
      " [0.79767374 0.94327564 0.65709353]]\n",
      "After normalization:\n",
      "[[0.57850476 0.99545394 0.61235748]\n",
      " [0.52203611 0.         0.11684904]\n",
      " [0.81809858 1.         0.64247078]]\n"
     ]
    }
   ],
   "source": [
    "x = np.random.random((3, 3))\n",
    "print(x)\n",
    "\n",
    "xmax, xmin = x.max(), x.min()\n",
    "x = (x - xmin) / (xmax - xmin)\n",
    "\n",
    "print(\"After normalization:\")\n",
    "print(x) "
   ]
  },
  {
   "cell_type": "markdown",
   "id": "4b98a320-0e96-4630-be0f-84d20b4b11f6",
   "metadata": {},
   "source": [
    "## 6. Write a NumPy program to check two random arrays are equal or not"
   ]
  },
  {
   "cell_type": "code",
   "execution_count": 33,
   "id": "abe9ed95-4e3a-46f0-a26d-04528e924ecc",
   "metadata": {},
   "outputs": [
    {
     "name": "stdout",
     "output_type": "stream",
     "text": [
      "[1 1 0 0 0 1]\n",
      "[1 1 0 1 0 1]\n",
      "Test above two arrays are equal or not!\n",
      "False\n"
     ]
    }
   ],
   "source": [
    "x = np.random.randint(0, 2, 6)\n",
    "print(x)\n",
    "y = np.random.randint(0, 2, 6)\n",
    "print(y)\n",
    "\n",
    "array_equal = np.allclose(x, y)\n",
    "print(\"Test above two arrays are equal or not!\")\n",
    "print(array_equal) "
   ]
  }
 ],
 "metadata": {
  "kernelspec": {
   "display_name": "Python 3 (ipykernel)",
   "language": "python",
   "name": "python3"
  },
  "language_info": {
   "codemirror_mode": {
    "name": "ipython",
    "version": 3
   },
   "file_extension": ".py",
   "mimetype": "text/x-python",
   "name": "python",
   "nbconvert_exporter": "python",
   "pygments_lexer": "ipython3",
   "version": "3.9.19"
  }
 },
 "nbformat": 4,
 "nbformat_minor": 5
}
