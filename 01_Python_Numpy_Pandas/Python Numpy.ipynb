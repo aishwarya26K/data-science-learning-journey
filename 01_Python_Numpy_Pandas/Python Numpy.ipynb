{
 "cells": [
  {
   "cell_type": "code",
   "execution_count": 1,
   "id": "db0e3b77",
   "metadata": {},
   "outputs": [],
   "source": [
    "import numpy as np"
   ]
  },
  {
   "cell_type": "markdown",
   "id": "38adde60",
   "metadata": {},
   "source": [
    "# What is Numpy?"
   ]
  },
  {
   "cell_type": "markdown",
   "id": "c8a585aa",
   "metadata": {},
   "source": [
    "- It is a Python library that provides a multidimensional array object, various derived objects (such as masked arrays and matrices), and an assortment of routines for fast operations on arrays, including mathematical, logical, shape manipulation, sorting, selecting, I/O, discrete Fourier transforms, basic linear algebra, basic statistical operations, random simulation and much more.\n",
    "- At the core of the NumPy package, is the ndarray object. This encapsulates n-dimensional arrays of homogeneous data types, with many operations being performed in compiled code for performance.\n",
    "- There are several important differences between NumPy arrays and the standard Python sequences:\n",
    " - NumPy arrays have a fixed size at creation, unlike Python lists (which can grow dynamically). Changing the size of an ndarray will create a new array and delete the original.\n",
    " - The elements in a NumPy array are all required to be of the same data type, and thus will be the same size in memory. The exception: one can have arrays of (Python, including NumPy) objects, thereby allowing for arrays of different sized elements.\n",
    " - NumPy arrays facilitate advanced mathematical and other types of operations on large numbers of data. Typically, such operations are executed more efficiently and with less code than is possible using Python’s built-in sequences."
   ]
  },
  {
   "cell_type": "markdown",
   "id": "17d5cfec",
   "metadata": {},
   "source": [
    "# Why is NumPy fast?"
   ]
  },
  {
   "cell_type": "markdown",
   "id": "d031f332",
   "metadata": {},
   "source": [
    "- NumPy is fast primarily because of the following reasons:\n",
    "\n",
    " 1. Vectorized Operations: NumPy uses vectorized operations, which means instead of looping over individual elements in a Python loop, NumPy operations work on entire arrays at once. This leverages highly optimized C and Fortran libraries for numerical computations, making operations significantly faster than native Python.\n",
    "\n",
    " 2. Efficient Memory Layout: NumPy arrays use contiguous blocks of memory with a fixed data type. This leads to better cache utilization and reduced overhead compared to Python lists, which are dynamically typed and stored as objects in memory, each with additional metadata.\n",
    "\n",
    " 3. Low-Level Implementations: Many of the core NumPy operations are written in C or Fortran, which are compiled languages and much faster than Python, an interpreted language. This allows NumPy to bypass Python’s overhead and interact directly with lower-level, faster machine code.\n",
    " 4. Broadcasting: NumPy allows broadcasting, which means it can apply operations on arrays of different shapes without explicitly reshaping or replicating data. This reduces memory usage and computation time.\n",
    " 5. Avoidance of Python Loops: In Python, looping over individual elements is relatively slow due to Python’s interpreter overhead. NumPy avoids this by implementing operations directly in optimized C code that operates on the entire array at once."
   ]
  },
  {
   "cell_type": "markdown",
   "id": "08db99b3",
   "metadata": {},
   "source": [
    "# Numpy Basics"
   ]
  },
  {
   "cell_type": "markdown",
   "id": "ae9e0250",
   "metadata": {},
   "source": [
    "- NumPy’s main object is the homogeneous multidimensional array. It is a table of elements (usually numbers), all of the same type, indexed by a tuple of non-negative integers.\n",
    "- In NumPy dimensions are called axes.\n",
    "- ndarray.ndim: no. of axes of the array\n",
    "- ndarray.shape: dimensions of the array i.e. (n,m) where n rows and m columns\n",
    "- ndarray.size: the total number of elements of the array. This is equal to the product of the elements of shape.\n",
    "- ndarray.dtype: an object describing the type of the elements in the array.\n",
    "- ndarray.itemsize: the size in bytes of each element of the array."
   ]
  },
  {
   "cell_type": "code",
   "execution_count": 2,
   "id": "7db64a2b",
   "metadata": {},
   "outputs": [
    {
     "data": {
      "text/plain": [
       "array([[ 0,  1,  2,  3,  4],\n",
       "       [ 5,  6,  7,  8,  9],\n",
       "       [10, 11, 12, 13, 14]])"
      ]
     },
     "execution_count": 2,
     "metadata": {},
     "output_type": "execute_result"
    }
   ],
   "source": [
    "import numpy as np\n",
    "\n",
    "a = np.arange(15).reshape(3,5)\n",
    "a"
   ]
  },
  {
   "cell_type": "code",
   "execution_count": 3,
   "id": "3f5bb2e7",
   "metadata": {},
   "outputs": [
    {
     "name": "stdout",
     "output_type": "stream",
     "text": [
      "2\n"
     ]
    }
   ],
   "source": [
    "print(a.ndim)"
   ]
  },
  {
   "cell_type": "code",
   "execution_count": 4,
   "id": "1144ca8e",
   "metadata": {},
   "outputs": [
    {
     "name": "stdout",
     "output_type": "stream",
     "text": [
      "(3, 5)\n"
     ]
    }
   ],
   "source": [
    "print(a.shape)"
   ]
  },
  {
   "cell_type": "code",
   "execution_count": 5,
   "id": "f6c63aba",
   "metadata": {},
   "outputs": [
    {
     "name": "stdout",
     "output_type": "stream",
     "text": [
      "15\n"
     ]
    }
   ],
   "source": [
    "print(a.size)"
   ]
  },
  {
   "cell_type": "code",
   "execution_count": 6,
   "id": "c2fdfc8e",
   "metadata": {},
   "outputs": [
    {
     "name": "stdout",
     "output_type": "stream",
     "text": [
      "int32\n"
     ]
    }
   ],
   "source": [
    "print(a.dtype)"
   ]
  },
  {
   "cell_type": "code",
   "execution_count": 7,
   "id": "34cc9cc8",
   "metadata": {},
   "outputs": [
    {
     "name": "stdout",
     "output_type": "stream",
     "text": [
      "4\n"
     ]
    }
   ],
   "source": [
    "print(a.itemsize)"
   ]
  },
  {
   "cell_type": "markdown",
   "id": "ae13a48d",
   "metadata": {},
   "source": [
    "# Array Upcasting"
   ]
  },
  {
   "cell_type": "markdown",
   "id": "168fff72",
   "metadata": {},
   "source": [
    "- When we pass heterogenous elments to an array then it converts them into same type following the upcasting method.\n",
    "- int -> float -> complex -> string -> object"
   ]
  },
  {
   "cell_type": "code",
   "execution_count": 8,
   "id": "e3bbcabd",
   "metadata": {},
   "outputs": [
    {
     "data": {
      "text/plain": [
       "array(['1', '2', '3', '4', '5'], dtype='<U11')"
      ]
     },
     "execution_count": 8,
     "metadata": {},
     "output_type": "execute_result"
    }
   ],
   "source": [
    "a = np.array([1,2,3,'4',5])\n",
    "a"
   ]
  },
  {
   "cell_type": "markdown",
   "id": "049b7d5c",
   "metadata": {},
   "source": [
    "# Create Different Types of Arrays"
   ]
  },
  {
   "cell_type": "markdown",
   "id": "02694937",
   "metadata": {},
   "source": [
    "## 1. np.arange()"
   ]
  },
  {
   "cell_type": "markdown",
   "id": "881bc5b9",
   "metadata": {},
   "source": [
    "- np.arange(start,stop,step)\n",
    "- Stop value is excluded\n",
    "- Step values is 1 by default"
   ]
  },
  {
   "cell_type": "code",
   "execution_count": 9,
   "id": "fff089e3",
   "metadata": {},
   "outputs": [
    {
     "data": {
      "text/plain": [
       "array([ 1,  2,  3,  4,  5,  6,  7,  8,  9, 10])"
      ]
     },
     "execution_count": 9,
     "metadata": {},
     "output_type": "execute_result"
    }
   ],
   "source": [
    "l = np.arange(1,11)\n",
    "l"
   ]
  },
  {
   "cell_type": "code",
   "execution_count": 10,
   "id": "2a146f54",
   "metadata": {},
   "outputs": [
    {
     "data": {
      "text/plain": [
       "array([1, 3, 5, 7, 9])"
      ]
     },
     "execution_count": 10,
     "metadata": {},
     "output_type": "execute_result"
    }
   ],
   "source": [
    "l = np.arange(1,11,2)\n",
    "l"
   ]
  },
  {
   "cell_type": "markdown",
   "id": "07d99a5a",
   "metadata": {},
   "source": [
    "## 2. np.linspace()"
   ]
  },
  {
   "cell_type": "markdown",
   "id": "400dc98b",
   "metadata": {},
   "source": [
    "- It is used to generate n number of values between two numbers.\n",
    "- The values we get are at equal interval.\n",
    "- It means betwen two consecutive numbers we get equal difference.\n",
    "- np.linspace(start,stop,number of values)\n",
    "- Stop value is included"
   ]
  },
  {
   "cell_type": "code",
   "execution_count": 11,
   "id": "b6f82a42",
   "metadata": {},
   "outputs": [
    {
     "data": {
      "text/plain": [
       "array([ 1.  ,  3.25,  5.5 ,  7.75, 10.  ])"
      ]
     },
     "execution_count": 11,
     "metadata": {},
     "output_type": "execute_result"
    }
   ],
   "source": [
    "# Create an array of 5 nummbers that are at equal interval between 1 and 10\n",
    "\n",
    "arr=np.linspace(1,10,5)\n",
    "arr"
   ]
  },
  {
   "cell_type": "markdown",
   "id": "1359396e",
   "metadata": {},
   "source": [
    "## 3. np.ones()"
   ]
  },
  {
   "cell_type": "markdown",
   "id": "ec70e56b",
   "metadata": {},
   "source": [
    "- It generates an array of the given shape where all the elments are 1's"
   ]
  },
  {
   "cell_type": "code",
   "execution_count": 12,
   "id": "7f320d38",
   "metadata": {},
   "outputs": [
    {
     "data": {
      "text/plain": [
       "array([[1, 1, 1],\n",
       "       [1, 1, 1],\n",
       "       [1, 1, 1]])"
      ]
     },
     "execution_count": 12,
     "metadata": {},
     "output_type": "execute_result"
    }
   ],
   "source": [
    "arr=np.ones((3,3),dtype=int)\n",
    "arr"
   ]
  },
  {
   "cell_type": "markdown",
   "id": "0efb1589",
   "metadata": {},
   "source": [
    "## 4. np.zeros()"
   ]
  },
  {
   "cell_type": "markdown",
   "id": "ec1364af",
   "metadata": {},
   "source": [
    "- It creates an array of the given shape where all the elements are 0's"
   ]
  },
  {
   "cell_type": "code",
   "execution_count": 13,
   "id": "4ca0a82b",
   "metadata": {},
   "outputs": [
    {
     "data": {
      "text/plain": [
       "array([[0., 0., 0., 0.],\n",
       "       [0., 0., 0., 0.],\n",
       "       [0., 0., 0., 0.],\n",
       "       [0., 0., 0., 0.]])"
      ]
     },
     "execution_count": 13,
     "metadata": {},
     "output_type": "execute_result"
    }
   ],
   "source": [
    "arr=np.zeros((4,4))\n",
    "arr"
   ]
  },
  {
   "cell_type": "code",
   "execution_count": 14,
   "id": "221136ea",
   "metadata": {},
   "outputs": [
    {
     "data": {
      "text/plain": [
       "array([[0, 0, 0, 0],\n",
       "       [0, 0, 0, 0],\n",
       "       [0, 0, 0, 0],\n",
       "       [0, 0, 0, 0]])"
      ]
     },
     "execution_count": 14,
     "metadata": {},
     "output_type": "execute_result"
    }
   ],
   "source": [
    "arr=np.zeros((4,4),dtype=int)\n",
    "arr"
   ]
  },
  {
   "cell_type": "markdown",
   "id": "c9b64846",
   "metadata": {},
   "source": [
    "## 5. np.full()"
   ]
  },
  {
   "cell_type": "markdown",
   "id": "b7fde588",
   "metadata": {},
   "source": [
    "- It creates an array of the given shape where all the elements are the value given.\n",
    "- np.full((row,cols),value)"
   ]
  },
  {
   "cell_type": "code",
   "execution_count": 16,
   "id": "e5caabe8",
   "metadata": {},
   "outputs": [
    {
     "data": {
      "text/plain": [
       "array([[5, 5, 5, 5],\n",
       "       [5, 5, 5, 5],\n",
       "       [5, 5, 5, 5]])"
      ]
     },
     "execution_count": 16,
     "metadata": {},
     "output_type": "execute_result"
    }
   ],
   "source": [
    "# Create a 3*4 array where all the elements should be 5\n",
    "\n",
    "arr=np.full((3,4),5)\n",
    "arr"
   ]
  },
  {
   "cell_type": "markdown",
   "id": "8d544e56",
   "metadata": {},
   "source": [
    "## 6. np.zeros_like()"
   ]
  },
  {
   "cell_type": "markdown",
   "id": "3bdb138e",
   "metadata": {},
   "source": [
    "- It creates an array of 0's of the shape of the given array."
   ]
  },
  {
   "cell_type": "code",
   "execution_count": 17,
   "id": "b3912802",
   "metadata": {},
   "outputs": [
    {
     "data": {
      "text/plain": [
       "array([[0, 0],\n",
       "       [0, 0],\n",
       "       [0, 0]])"
      ]
     },
     "execution_count": 17,
     "metadata": {},
     "output_type": "execute_result"
    }
   ],
   "source": [
    "arr=np.array([[10,50],[20,40],[78,22]])\n",
    "zr=np.zeros_like(arr)\n",
    "zr"
   ]
  },
  {
   "cell_type": "markdown",
   "id": "9c11fbb3",
   "metadata": {},
   "source": [
    "## 7. np.ones_like()"
   ]
  },
  {
   "cell_type": "markdown",
   "id": "06248cb9",
   "metadata": {},
   "source": [
    "- It creates an arrays of 1's of the shape of the given array."
   ]
  },
  {
   "cell_type": "code",
   "execution_count": 18,
   "id": "961a22b0",
   "metadata": {},
   "outputs": [
    {
     "data": {
      "text/plain": [
       "array([[1, 1],\n",
       "       [1, 1],\n",
       "       [1, 1]])"
      ]
     },
     "execution_count": 18,
     "metadata": {},
     "output_type": "execute_result"
    }
   ],
   "source": [
    "arr=np.array([[10,50],[20,40],[78,22]])\n",
    "one=np.ones_like(arr)\n",
    "one"
   ]
  },
  {
   "cell_type": "markdown",
   "id": "0354aff7",
   "metadata": {},
   "source": [
    "## 8. np.full_like()"
   ]
  },
  {
   "cell_type": "markdown",
   "id": "d168ee7f",
   "metadata": {},
   "source": [
    "- It creates an array of the given value and of the shape of the given array."
   ]
  },
  {
   "cell_type": "code",
   "execution_count": 19,
   "id": "5ba94bc1",
   "metadata": {},
   "outputs": [
    {
     "data": {
      "text/plain": [
       "array([[10, 50],\n",
       "       [20, 40],\n",
       "       [78, 22]])"
      ]
     },
     "execution_count": 19,
     "metadata": {},
     "output_type": "execute_result"
    }
   ],
   "source": [
    "arr=np.array([[10,50],[20,40],[78,22]])\n",
    "arr"
   ]
  },
  {
   "cell_type": "code",
   "execution_count": 19,
   "id": "327e04e3",
   "metadata": {},
   "outputs": [
    {
     "data": {
      "text/plain": [
       "array([[2.5, 2.5],\n",
       "       [2.5, 2.5],\n",
       "       [2.5, 2.5]])"
      ]
     },
     "execution_count": 19,
     "metadata": {},
     "output_type": "execute_result"
    }
   ],
   "source": [
    "np.full_like(arr,2.5,dtype=float)"
   ]
  },
  {
   "cell_type": "markdown",
   "id": "1a508fdc",
   "metadata": {},
   "source": [
    "## 9. np.eye()"
   ]
  },
  {
   "cell_type": "markdown",
   "id": "2c285516",
   "metadata": {},
   "source": [
    "- It creates an identity matrix\n",
    "- In an identity matrix the diagonals are ones and rest of the values are 0"
   ]
  },
  {
   "cell_type": "code",
   "execution_count": 20,
   "id": "4e646909",
   "metadata": {},
   "outputs": [
    {
     "data": {
      "text/plain": [
       "array([[1, 0, 0],\n",
       "       [0, 1, 0],\n",
       "       [0, 0, 1]])"
      ]
     },
     "execution_count": 20,
     "metadata": {},
     "output_type": "execute_result"
    }
   ],
   "source": [
    "arr=np.eye(3,3,dtype=int)\n",
    "arr"
   ]
  },
  {
   "cell_type": "markdown",
   "id": "448577fa",
   "metadata": {},
   "source": [
    "<br>"
   ]
  },
  {
   "cell_type": "markdown",
   "id": "ed97c7f7",
   "metadata": {},
   "source": [
    "## Reshaping an array"
   ]
  },
  {
   "cell_type": "markdown",
   "id": "3f8ddf90",
   "metadata": {},
   "source": [
    "- It reshapes array according to the rows and columns passed.\n",
    "- It returns a new array. It does not make the changes in the existing array."
   ]
  },
  {
   "cell_type": "code",
   "execution_count": 21,
   "id": "1ff1bdaa",
   "metadata": {},
   "outputs": [
    {
     "data": {
      "text/plain": [
       "array([0, 1, 2, 3, 4, 5, 6, 7, 8])"
      ]
     },
     "execution_count": 21,
     "metadata": {},
     "output_type": "execute_result"
    }
   ],
   "source": [
    "arr = np.arange(9)\n",
    "arr"
   ]
  },
  {
   "cell_type": "code",
   "execution_count": 22,
   "id": "c84bd01d",
   "metadata": {},
   "outputs": [
    {
     "data": {
      "text/plain": [
       "array([[0, 1, 2],\n",
       "       [3, 4, 5],\n",
       "       [6, 7, 8]])"
      ]
     },
     "execution_count": 22,
     "metadata": {},
     "output_type": "execute_result"
    }
   ],
   "source": [
    "arr1 = arr.reshape(3,3)\n",
    "arr1"
   ]
  },
  {
   "cell_type": "code",
   "execution_count": 23,
   "id": "6a983e34",
   "metadata": {},
   "outputs": [
    {
     "data": {
      "text/plain": [
       "(3, 3)"
      ]
     },
     "execution_count": 23,
     "metadata": {},
     "output_type": "execute_result"
    }
   ],
   "source": [
    "arr1.shape"
   ]
  },
  {
   "cell_type": "code",
   "execution_count": 24,
   "id": "91741613",
   "metadata": {},
   "outputs": [
    {
     "data": {
      "text/plain": [
       "array([[0, 3, 6],\n",
       "       [1, 4, 7],\n",
       "       [2, 5, 8]])"
      ]
     },
     "execution_count": 24,
     "metadata": {},
     "output_type": "execute_result"
    }
   ],
   "source": [
    "arr1.T"
   ]
  },
  {
   "cell_type": "markdown",
   "id": "ce9fb125",
   "metadata": {},
   "source": [
    "# Flattening a NumPy array"
   ]
  },
  {
   "cell_type": "markdown",
   "id": "c39b7bb1",
   "metadata": {},
   "source": [
    "- Sometimes when you have a multidimensional array and want to collapse it to a single-dimensional array, you can either use the flatten() method or the ravel() method"
   ]
  },
  {
   "cell_type": "code",
   "execution_count": 25,
   "id": "053575cf",
   "metadata": {},
   "outputs": [
    {
     "name": "stdout",
     "output_type": "stream",
     "text": [
      "Original shape : (2, 2)\n",
      "Array : \n",
      " [[1. 1.]\n",
      " [1. 1.]]\n",
      "Shape after flatten : (4,)\n",
      "Array : \n",
      " [1. 1. 1. 1.]\n",
      "Shape after ravel : (4,)\n",
      "Array : \n",
      " [1. 1. 1. 1.]\n"
     ]
    }
   ],
   "source": [
    "a = np.ones((2,2))\n",
    "b = a.flatten()\n",
    "c = a.ravel()\n",
    "print('Original shape :', a.shape)\n",
    "print('Array :','\\n', a)\n",
    "print('Shape after flatten :',b.shape)\n",
    "print('Array :','\\n', b)\n",
    "print('Shape after ravel :',c.shape)\n",
    "print('Array :','\\n', c)"
   ]
  },
  {
   "cell_type": "markdown",
   "id": "fb81c345",
   "metadata": {},
   "source": [
    "- But an important difference between flatten() and ravel() is that the former returns a copy of the original array while the latter returns a reference to the original array. This means any changes made to the array returned from ravel() will also be reflected in the original array while this will not be the case with flatten().\n",
    "- What is happening here is that flatten() creates a Deep copy of the ndarray while ravel() creates a Shallow copy of the ndarray.\n",
    "- Deep copy means that a completely new ndarray is created in memory and the ndarray object returned by flatten() is now pointing to this memory location. Therefore, any changes made here will not be reflected in the original ndarray.\n",
    "- A Shallow copy, on the other hand, returns a reference to the original memory location. Meaning the object returned by ravel() is pointing to the same memory location as the original ndarray object. So, definitely, any changes made to this ndarray will also be reflected in the original ndarray too."
   ]
  },
  {
   "cell_type": "code",
   "execution_count": 26,
   "id": "b0b9c422",
   "metadata": {},
   "outputs": [
    {
     "data": {
      "image/png": "[encoded data removed]",
      "text/plain": [
       "<PIL.PngImagePlugin.PngImageFile image mode=RGBA size=491x451>"
      ]
     },
     "execution_count": 26,
     "metadata": {},
     "output_type": "execute_result"
    }
   ],
   "source": [
    "from PIL import Image\n",
    "\n",
    "Image.open('Shallow-deep-copy.png', 'r')"
   ]
  },
  {
   "cell_type": "markdown",
   "id": "81b3af1e",
   "metadata": {},
   "source": [
    "<br>"
   ]
  },
  {
   "cell_type": "markdown",
   "id": "1390ddac",
   "metadata": {},
   "source": [
    "# 2D array"
   ]
  },
  {
   "cell_type": "code",
   "execution_count": 27,
   "id": "61d48946",
   "metadata": {},
   "outputs": [
    {
     "data": {
      "text/plain": [
       "array([[0, 1, 2],\n",
       "       [3, 4, 5],\n",
       "       [6, 7, 8]])"
      ]
     },
     "execution_count": 27,
     "metadata": {},
     "output_type": "execute_result"
    }
   ],
   "source": [
    "arr1"
   ]
  },
  {
   "cell_type": "markdown",
   "id": "622def03",
   "metadata": {},
   "source": [
    "<br>"
   ]
  },
  {
   "cell_type": "markdown",
   "id": "1b4f3cda",
   "metadata": {},
   "source": [
    "# 3D array"
   ]
  },
  {
   "cell_type": "markdown",
   "id": "34dbebf6",
   "metadata": {},
   "source": [
    "- arr.reshape(number of arrays, rows, cols)"
   ]
  },
  {
   "cell_type": "code",
   "execution_count": 28,
   "id": "753ba8c7",
   "metadata": {},
   "outputs": [
    {
     "data": {
      "text/plain": [
       "array([[[ 0,  1,  2],\n",
       "        [ 3,  4,  5],\n",
       "        [ 6,  7,  8],\n",
       "        [ 9, 10, 11]],\n",
       "\n",
       "       [[12, 13, 14],\n",
       "        [15, 16, 17],\n",
       "        [18, 19, 20],\n",
       "        [21, 22, 23]],\n",
       "\n",
       "       [[24, 25, 26],\n",
       "        [27, 28, 29],\n",
       "        [30, 31, 32],\n",
       "        [33, 34, 35]]])"
      ]
     },
     "execution_count": 28,
     "metadata": {},
     "output_type": "execute_result"
    }
   ],
   "source": [
    "arr3d = np.arange(36).reshape(3,4,3)\n",
    "arr3d"
   ]
  },
  {
   "cell_type": "markdown",
   "id": "974b5774",
   "metadata": {},
   "source": [
    "# Indexing of a 1D array"
   ]
  },
  {
   "cell_type": "code",
   "execution_count": 30,
   "id": "618a5ba2",
   "metadata": {},
   "outputs": [
    {
     "data": {
      "text/plain": [
       "array([10, 20, 30, 40, 50, 60, 70, 80, 90])"
      ]
     },
     "execution_count": 30,
     "metadata": {},
     "output_type": "execute_result"
    }
   ],
   "source": [
    "arr=np.array([10,20,30,40,50,60,70,80,90])\n",
    "arr"
   ]
  },
  {
   "cell_type": "code",
   "execution_count": 31,
   "id": "7433782e",
   "metadata": {},
   "outputs": [
    {
     "name": "stdout",
     "output_type": "stream",
     "text": [
      "10\n",
      "10\n",
      "10\n",
      "90\n",
      "90\n",
      "90\n",
      "40\n",
      "40\n"
     ]
    }
   ],
   "source": [
    "# Fetch the first element of the array\n",
    "print(arr[0])\n",
    "print(arr[-9])\n",
    "print(arr[-arr.size])\n",
    "\n",
    "# Fetch the last element\n",
    "print(arr[-1])\n",
    "print(arr[8])\n",
    "print(arr[arr.size-1])\n",
    "\n",
    "# Fetch 40\n",
    "print(arr[3])\n",
    "print(arr[-6])"
   ]
  },
  {
   "cell_type": "markdown",
   "id": "47bef52f",
   "metadata": {},
   "source": [
    "<br>"
   ]
  },
  {
   "cell_type": "markdown",
   "id": "fc82e876",
   "metadata": {},
   "source": [
    "# Slicing of a 1D array"
   ]
  },
  {
   "cell_type": "markdown",
   "id": "b31f630b",
   "metadata": {},
   "source": [
    "- arr[start:stop:step]\n",
    "- Stop is excluded\n",
    "- Step is 1 by default"
   ]
  },
  {
   "cell_type": "code",
   "execution_count": 32,
   "id": "d6ccfce7",
   "metadata": {},
   "outputs": [
    {
     "name": "stdout",
     "output_type": "stream",
     "text": [
      "[10 20 30 40]\n",
      "[10 20 30 40]\n",
      "[10 20 30 40]\n",
      "[10 30 50 70 90]\n",
      "[10 30 50 70 90]\n",
      "[90 80 70 60 50 40 30 20 10]\n",
      "[90 60 30]\n"
     ]
    }
   ],
   "source": [
    "# Fetch the first 4 elements.\n",
    "print(arr[0:4:1])\n",
    "print(arr[0:4])\n",
    "print(arr[:4])\n",
    "\n",
    "# Fetch every alternate element in positive direction\n",
    "print(arr[0:arr.size:2])\n",
    "print(arr[::2])\n",
    "\n",
    "# Reverse the array\n",
    "print(arr[::-1])\n",
    "\n",
    "# Fetch [90,60,30]\n",
    "print(arr[::-3])"
   ]
  },
  {
   "cell_type": "markdown",
   "id": "a7174ddc",
   "metadata": {},
   "source": [
    "<br>"
   ]
  },
  {
   "cell_type": "markdown",
   "id": "825758a4",
   "metadata": {},
   "source": [
    "# Indexing of a 2D array"
   ]
  },
  {
   "cell_type": "markdown",
   "id": "a0ed3cc5",
   "metadata": {},
   "source": [
    "- arr[row_index]\n",
    "- arr[row_index,col_index]"
   ]
  },
  {
   "cell_type": "code",
   "execution_count": 33,
   "id": "7a9f1543",
   "metadata": {},
   "outputs": [
    {
     "data": {
      "text/plain": [
       "array([[10, 20, 30],\n",
       "       [40, 50, 60],\n",
       "       [70, 80, 90]])"
      ]
     },
     "execution_count": 33,
     "metadata": {},
     "output_type": "execute_result"
    }
   ],
   "source": [
    "arr=np.array([10,20,30,40,50,60,70,80,90]).reshape(3,3)\n",
    "arr"
   ]
  },
  {
   "cell_type": "code",
   "execution_count": 34,
   "id": "77a08f72",
   "metadata": {},
   "outputs": [
    {
     "name": "stdout",
     "output_type": "stream",
     "text": [
      "[10 20 30]\n",
      "[70 80 90]\n",
      "[70 80 90]\n",
      "10\n",
      "10\n",
      "10\n",
      "70\n"
     ]
    }
   ],
   "source": [
    "# Get the first row\n",
    "print(arr[0])\n",
    "\n",
    "# Get the last row\n",
    "print(arr[2])\n",
    "print(arr[-1])\n",
    "\n",
    "# Fetch 10\n",
    "print(arr[0,0])\n",
    "print(arr[-3,-3])\n",
    "print(arr[0,-3])\n",
    "\n",
    "# Fetch 70\n",
    "print(arr[2,0])"
   ]
  },
  {
   "cell_type": "markdown",
   "id": "279e05b6",
   "metadata": {},
   "source": [
    "# Slicing of a 2D array"
   ]
  },
  {
   "cell_type": "markdown",
   "id": "3635a04f",
   "metadata": {},
   "source": [
    "- arr[row_slicing]\n",
    "- arr[start:stop:step]\n",
    "\n",
    "- arr[row_slicing,col_slicing]\n",
    "- arr[start:stop:step,start:stop:step]"
   ]
  },
  {
   "cell_type": "code",
   "execution_count": 35,
   "id": "d586a8fa",
   "metadata": {},
   "outputs": [
    {
     "data": {
      "text/plain": [
       "array([[ 10,  20,  30,  40],\n",
       "       [ 50,  60,  70,  80],\n",
       "       [ 90, 100, 200, 300]])"
      ]
     },
     "execution_count": 35,
     "metadata": {},
     "output_type": "execute_result"
    }
   ],
   "source": [
    "arr=np.array([10,20,30,40,50,60,70,80,90,100,200,300]).reshape(3,4)\n",
    "arr"
   ]
  },
  {
   "cell_type": "code",
   "execution_count": 36,
   "id": "4146b7dd",
   "metadata": {},
   "outputs": [
    {
     "name": "stdout",
     "output_type": "stream",
     "text": [
      "[[10 20 30 40]\n",
      " [50 60 70 80]]\n",
      "\n",
      "[[10 20 30 40]\n",
      " [50 60 70 80]]\n",
      "\n",
      "[[ 10  20  30  40]\n",
      " [ 90 100 200 300]]\n",
      "\n",
      "[[ 90 100 200 300]\n",
      " [ 50  60  70  80]\n",
      " [ 10  20  30  40]]\n",
      "\n",
      "[10 50 90]\n",
      "\n",
      "[[ 10  20]\n",
      " [ 50  60]\n",
      " [ 90 100]]\n",
      "\n",
      "[[ 10  30]\n",
      " [ 50  70]\n",
      " [ 90 200]]\n",
      "\n",
      "[[ 40  30  20  10]\n",
      " [ 80  70  60  50]\n",
      " [300 200 100  90]]\n",
      "\n"
     ]
    }
   ],
   "source": [
    "# Get the first two rows\n",
    "print(arr[0:2:1])\n",
    "print()\n",
    "\n",
    "print(arr[:2:])\n",
    "print()\n",
    "\n",
    "# Get the alternate rows\n",
    "print(arr[::2])\n",
    "print()\n",
    "\n",
    "# Reverse the rows\n",
    "print(arr[::-1])\n",
    "print()\n",
    "\n",
    "# Get the first column\n",
    "print(arr[::,0])\n",
    "print()\n",
    "\n",
    "# Get the first two columns\n",
    "print(arr[::,0:2])\n",
    "print()\n",
    "\n",
    "# Alternate columns\n",
    "print(arr[::,::2])\n",
    "print()\n",
    "\n",
    "# Reverse the columns\n",
    "print(arr[::,::-1])\n",
    "print()\n"
   ]
  },
  {
   "cell_type": "markdown",
   "id": "4ad50521",
   "metadata": {},
   "source": [
    "# Indexing of a 3d array"
   ]
  },
  {
   "cell_type": "markdown",
   "id": "b5ecab33",
   "metadata": {},
   "source": [
    "- arr[arry_index]\n",
    "- arr[arr_index,row_index,col_index]"
   ]
  },
  {
   "cell_type": "code",
   "execution_count": 38,
   "id": "9ffa2aa8",
   "metadata": {},
   "outputs": [
    {
     "data": {
      "text/plain": [
       "array([[[38, 21, 23, 33],\n",
       "        [96, 38, 42, 79],\n",
       "        [21, 45, 43, 15],\n",
       "        [26, 21, 64, 56]],\n",
       "\n",
       "       [[52, 71, 55, 89],\n",
       "        [64, 86, 73, 49],\n",
       "        [32, 81, 49, 17],\n",
       "        [73, 30, 44, 53]],\n",
       "\n",
       "       [[88, 94, 84, 74],\n",
       "        [69, 73, 75, 92],\n",
       "        [16, 35, 96, 25],\n",
       "        [95, 36, 10, 48]]])"
      ]
     },
     "execution_count": 38,
     "metadata": {},
     "output_type": "execute_result"
    }
   ],
   "source": [
    "np.random.seed(52)\n",
    "arr=np.random.randint(10,100,48).reshape(3,4,4)\n",
    "arr"
   ]
  },
  {
   "cell_type": "code",
   "execution_count": 39,
   "id": "26daad1b",
   "metadata": {},
   "outputs": [
    {
     "data": {
      "text/plain": [
       "array([[38, 21, 23, 33],\n",
       "       [96, 38, 42, 79],\n",
       "       [21, 45, 43, 15],\n",
       "       [26, 21, 64, 56]])"
      ]
     },
     "execution_count": 39,
     "metadata": {},
     "output_type": "execute_result"
    }
   ],
   "source": [
    "# Fetch the first array\n",
    "arr[0]"
   ]
  },
  {
   "cell_type": "code",
   "execution_count": 40,
   "id": "55a8158a",
   "metadata": {},
   "outputs": [
    {
     "data": {
      "text/plain": [
       "array([[88, 94, 84, 74],\n",
       "       [69, 73, 75, 92],\n",
       "       [16, 35, 96, 25],\n",
       "       [95, 36, 10, 48]])"
      ]
     },
     "execution_count": 40,
     "metadata": {},
     "output_type": "execute_result"
    }
   ],
   "source": [
    "# Fetch the last array\n",
    "arr[2]"
   ]
  },
  {
   "cell_type": "code",
   "execution_count": 41,
   "id": "8c97bc4f",
   "metadata": {},
   "outputs": [
    {
     "data": {
      "text/plain": [
       "array([38, 21, 23, 33])"
      ]
     },
     "execution_count": 41,
     "metadata": {},
     "output_type": "execute_result"
    }
   ],
   "source": [
    "# Get the first row from the first array\n",
    "arr[0,0]"
   ]
  },
  {
   "cell_type": "code",
   "execution_count": 42,
   "id": "b164addc",
   "metadata": {},
   "outputs": [
    {
     "data": {
      "text/plain": [
       "array([73, 30, 44, 53])"
      ]
     },
     "execution_count": 42,
     "metadata": {},
     "output_type": "execute_result"
    }
   ],
   "source": [
    "# Get the last row from the second array\n",
    "arr[1,-1]"
   ]
  },
  {
   "cell_type": "code",
   "execution_count": 43,
   "id": "c6abba01",
   "metadata": {},
   "outputs": [
    {
     "data": {
      "text/plain": [
       "75"
      ]
     },
     "execution_count": 43,
     "metadata": {},
     "output_type": "execute_result"
    }
   ],
   "source": [
    "# From the last array fetch 75\n",
    "arr[2,1,-2]"
   ]
  },
  {
   "cell_type": "code",
   "execution_count": 44,
   "id": "0edb745b",
   "metadata": {},
   "outputs": [
    {
     "data": {
      "text/plain": [
       "81"
      ]
     },
     "execution_count": 44,
     "metadata": {},
     "output_type": "execute_result"
    }
   ],
   "source": [
    "# Fetch 81 from the second array\n",
    "arr[1,2,1]"
   ]
  },
  {
   "cell_type": "markdown",
   "id": "02b6bd6d",
   "metadata": {},
   "source": [
    "# Slicing of a 3d array"
   ]
  },
  {
   "cell_type": "markdown",
   "id": "6c02ef55",
   "metadata": {},
   "source": [
    "- arr[array_slicing]\n",
    "- arr[start:stop:step]\n",
    "- arr[arry_slicing,row_slicing,col_slicing]\n",
    "- arr[start:stop:step,start:stop:step,start:stop:step]\n"
   ]
  },
  {
   "cell_type": "code",
   "execution_count": 45,
   "id": "a880152a",
   "metadata": {},
   "outputs": [
    {
     "data": {
      "text/plain": [
       "array([[[38, 21, 23, 33],\n",
       "        [96, 38, 42, 79],\n",
       "        [21, 45, 43, 15],\n",
       "        [26, 21, 64, 56]],\n",
       "\n",
       "       [[52, 71, 55, 89],\n",
       "        [64, 86, 73, 49],\n",
       "        [32, 81, 49, 17],\n",
       "        [73, 30, 44, 53]],\n",
       "\n",
       "       [[88, 94, 84, 74],\n",
       "        [69, 73, 75, 92],\n",
       "        [16, 35, 96, 25],\n",
       "        [95, 36, 10, 48]]])"
      ]
     },
     "execution_count": 45,
     "metadata": {},
     "output_type": "execute_result"
    }
   ],
   "source": [
    "arr"
   ]
  },
  {
   "cell_type": "code",
   "execution_count": 46,
   "id": "38f014cc",
   "metadata": {},
   "outputs": [
    {
     "data": {
      "text/plain": [
       "array([[[38, 21, 23, 33],\n",
       "        [96, 38, 42, 79],\n",
       "        [21, 45, 43, 15],\n",
       "        [26, 21, 64, 56]],\n",
       "\n",
       "       [[52, 71, 55, 89],\n",
       "        [64, 86, 73, 49],\n",
       "        [32, 81, 49, 17],\n",
       "        [73, 30, 44, 53]]])"
      ]
     },
     "execution_count": 46,
     "metadata": {},
     "output_type": "execute_result"
    }
   ],
   "source": [
    "# Get the first two arrays\n",
    "arr[0:2]"
   ]
  },
  {
   "cell_type": "code",
   "execution_count": 47,
   "id": "39de5577",
   "metadata": {},
   "outputs": [
    {
     "data": {
      "text/plain": [
       "array([[[52, 71, 55, 89],\n",
       "        [64, 86, 73, 49],\n",
       "        [32, 81, 49, 17],\n",
       "        [73, 30, 44, 53]],\n",
       "\n",
       "       [[88, 94, 84, 74],\n",
       "        [69, 73, 75, 92],\n",
       "        [16, 35, 96, 25],\n",
       "        [95, 36, 10, 48]]])"
      ]
     },
     "execution_count": 47,
     "metadata": {},
     "output_type": "execute_result"
    }
   ],
   "source": [
    "# Get the second and the third array\n",
    "arr[1:3]"
   ]
  },
  {
   "cell_type": "code",
   "execution_count": 53,
   "id": "639cd45e",
   "metadata": {},
   "outputs": [
    {
     "data": {
      "text/plain": [
       "array([[[38, 21, 23, 33],\n",
       "        [96, 38, 42, 79],\n",
       "        [21, 45, 43, 15],\n",
       "        [26, 21, 64, 56]],\n",
       "\n",
       "       [[88, 94, 84, 74],\n",
       "        [69, 73, 75, 92],\n",
       "        [16, 35, 96, 25],\n",
       "        [95, 36, 10, 48]]])"
      ]
     },
     "execution_count": 53,
     "metadata": {},
     "output_type": "execute_result"
    }
   ],
   "source": [
    "# Get the first and the last array\n",
    "arr[::2]"
   ]
  },
  {
   "cell_type": "code",
   "execution_count": 59,
   "id": "c973838c",
   "metadata": {},
   "outputs": [
    {
     "data": {
      "text/plain": [
       "array([[[88, 94, 84, 74],\n",
       "        [69, 73, 75, 92],\n",
       "        [16, 35, 96, 25],\n",
       "        [95, 36, 10, 48]],\n",
       "\n",
       "       [[52, 71, 55, 89],\n",
       "        [64, 86, 73, 49],\n",
       "        [32, 81, 49, 17],\n",
       "        [73, 30, 44, 53]],\n",
       "\n",
       "       [[38, 21, 23, 33],\n",
       "        [96, 38, 42, 79],\n",
       "        [21, 45, 43, 15],\n",
       "        [26, 21, 64, 56]]])"
      ]
     },
     "execution_count": 59,
     "metadata": {},
     "output_type": "execute_result"
    }
   ],
   "source": [
    "# Reverse the arrays\n",
    "arr[::-1]"
   ]
  },
  {
   "cell_type": "code",
   "execution_count": 57,
   "id": "4aa27704",
   "metadata": {},
   "outputs": [
    {
     "data": {
      "text/plain": [
       "array([[[38, 21, 23, 33],\n",
       "        [96, 38, 42, 79]],\n",
       "\n",
       "       [[52, 71, 55, 89],\n",
       "        [64, 86, 73, 49]],\n",
       "\n",
       "       [[88, 94, 84, 74],\n",
       "        [69, 73, 75, 92]]])"
      ]
     },
     "execution_count": 57,
     "metadata": {},
     "output_type": "execute_result"
    }
   ],
   "source": [
    "# First two rows of all the arrays\n",
    "arr[::,0:2]"
   ]
  },
  {
   "cell_type": "code",
   "execution_count": 58,
   "id": "104d85b7",
   "metadata": {},
   "outputs": [
    {
     "data": {
      "text/plain": [
       "array([[[26, 21, 64, 56],\n",
       "        [21, 45, 43, 15],\n",
       "        [96, 38, 42, 79],\n",
       "        [38, 21, 23, 33]],\n",
       "\n",
       "       [[73, 30, 44, 53],\n",
       "        [32, 81, 49, 17],\n",
       "        [64, 86, 73, 49],\n",
       "        [52, 71, 55, 89]],\n",
       "\n",
       "       [[95, 36, 10, 48],\n",
       "        [16, 35, 96, 25],\n",
       "        [69, 73, 75, 92],\n",
       "        [88, 94, 84, 74]]])"
      ]
     },
     "execution_count": 58,
     "metadata": {},
     "output_type": "execute_result"
    }
   ],
   "source": [
    "# Get the rows in reverse order of all the arrays\n",
    "arr[::,::-1]"
   ]
  },
  {
   "cell_type": "code",
   "execution_count": 59,
   "id": "fc841d7d",
   "metadata": {},
   "outputs": [
    {
     "data": {
      "text/plain": [
       "array([[[38, 21, 23, 33],\n",
       "        [21, 45, 43, 15]],\n",
       "\n",
       "       [[52, 71, 55, 89],\n",
       "        [32, 81, 49, 17]]])"
      ]
     },
     "execution_count": 59,
     "metadata": {},
     "output_type": "execute_result"
    }
   ],
   "source": [
    "# Every alternate row of the first two arrays\n",
    "arr[0:2,::2]"
   ]
  },
  {
   "cell_type": "code",
   "execution_count": 60,
   "id": "32ebf7ea",
   "metadata": {},
   "outputs": [
    {
     "data": {
      "text/plain": [
       "array([[[38],\n",
       "        [96],\n",
       "        [21],\n",
       "        [26]],\n",
       "\n",
       "       [[52],\n",
       "        [64],\n",
       "        [32],\n",
       "        [73]],\n",
       "\n",
       "       [[88],\n",
       "        [69],\n",
       "        [16],\n",
       "        [95]]])"
      ]
     },
     "execution_count": 60,
     "metadata": {},
     "output_type": "execute_result"
    }
   ],
   "source": [
    "# Get the first column from each array\n",
    "arr[::,::,0:1]"
   ]
  },
  {
   "cell_type": "code",
   "execution_count": 61,
   "id": "e81bd8b2",
   "metadata": {},
   "outputs": [
    {
     "data": {
      "text/plain": [
       "array([[[23, 33],\n",
       "        [42, 79],\n",
       "        [43, 15],\n",
       "        [64, 56]],\n",
       "\n",
       "       [[84, 74],\n",
       "        [75, 92],\n",
       "        [96, 25],\n",
       "        [10, 48]]])"
      ]
     },
     "execution_count": 61,
     "metadata": {},
     "output_type": "execute_result"
    }
   ],
   "source": [
    "# 3 and 4th columns from the alternate arrays\n",
    "arr[::2,::,2:]\n"
   ]
  },
  {
   "cell_type": "code",
   "execution_count": 62,
   "id": "709e2d20",
   "metadata": {},
   "outputs": [
    {
     "data": {
      "text/plain": [
       "array([[[33, 23, 21, 38],\n",
       "        [79, 42, 38, 96],\n",
       "        [15, 43, 45, 21],\n",
       "        [56, 64, 21, 26]],\n",
       "\n",
       "       [[89, 55, 71, 52],\n",
       "        [49, 73, 86, 64],\n",
       "        [17, 49, 81, 32],\n",
       "        [53, 44, 30, 73]],\n",
       "\n",
       "       [[74, 84, 94, 88],\n",
       "        [92, 75, 73, 69],\n",
       "        [25, 96, 35, 16],\n",
       "        [48, 10, 36, 95]]])"
      ]
     },
     "execution_count": 62,
     "metadata": {},
     "output_type": "execute_result"
    }
   ],
   "source": [
    "# Reverse the columns only of all the arrays\n",
    "arr[::,::,::-1]"
   ]
  },
  {
   "cell_type": "code",
   "execution_count": 63,
   "id": "cb43f5cf",
   "metadata": {},
   "outputs": [
    {
     "data": {
      "text/plain": [
       "array([[[48, 10, 36, 95],\n",
       "        [25, 96, 35, 16],\n",
       "        [92, 75, 73, 69],\n",
       "        [74, 84, 94, 88]],\n",
       "\n",
       "       [[53, 44, 30, 73],\n",
       "        [17, 49, 81, 32],\n",
       "        [49, 73, 86, 64],\n",
       "        [89, 55, 71, 52]],\n",
       "\n",
       "       [[56, 64, 21, 26],\n",
       "        [15, 43, 45, 21],\n",
       "        [79, 42, 38, 96],\n",
       "        [33, 23, 21, 38]]])"
      ]
     },
     "execution_count": 63,
     "metadata": {},
     "output_type": "execute_result"
    }
   ],
   "source": [
    "# Reverse the arrays, rows and columns\n",
    "arr[::-1,::-1,::-1]"
   ]
  },
  {
   "cell_type": "markdown",
   "id": "5d3ad93a",
   "metadata": {},
   "source": [
    "# Stacking ndarrays"
   ]
  },
  {
   "cell_type": "markdown",
   "id": "88860722",
   "metadata": {},
   "source": [
    "- You can create a new array by combining existing arrays. This you can do in two ways:\n",
    " - Either combine the arrays vertically (i.e. along the rows) using the vstack() method, thereby increasing the number of rows in the resulting array\n",
    " - Or combine the arrays in a horizontal fashion (i.e. along the columns) using the hstack(), thereby increasing the number of columns in the resultant array"
   ]
  },
  {
   "cell_type": "code",
   "execution_count": 64,
   "id": "29fc53dd",
   "metadata": {},
   "outputs": [
    {
     "data": {
      "image/png": "[encoded data removed]",
      "text/plain": [
       "<PIL.PngImagePlugin.PngImageFile image mode=RGBA size=768x242>"
      ]
     },
     "execution_count": 64,
     "metadata": {},
     "output_type": "execute_result"
    }
   ],
   "source": [
    "from PIL import Image\n",
    "\n",
    "Image.open('Stacking.png', 'r')"
   ]
  },
  {
   "cell_type": "code",
   "execution_count": 65,
   "id": "633af0a2",
   "metadata": {},
   "outputs": [
    {
     "name": "stdout",
     "output_type": "stream",
     "text": [
      "Array 1 : \n",
      " [0 1 2 3 4]\n",
      "Array 2 : \n",
      " [5 6 7 8 9]\n",
      "Vertical stacking : \n",
      " [[0 1 2 3 4]\n",
      " [5 6 7 8 9]]\n",
      "Horizontal stacking : \n",
      " [0 1 2 3 4 5 6 7 8 9]\n"
     ]
    }
   ],
   "source": [
    "a = np.arange(0,5)\n",
    "b = np.arange(5,10)\n",
    "print('Array 1 :','\\n',a)\n",
    "print('Array 2 :','\\n',b)\n",
    "print('Vertical stacking :','\\n',np.vstack((a,b)))\n",
    "print('Horizontal stacking :','\\n',np.hstack((a,b)))"
   ]
  },
  {
   "cell_type": "markdown",
   "id": "58d989a6",
   "metadata": {},
   "source": [
    "- A point to note here is that the axis along which you are combining the array should have the same size otherwise you are bound to get an error!"
   ]
  },
  {
   "cell_type": "markdown",
   "id": "1708fcbf",
   "metadata": {},
   "source": [
    "- Another interesting way to combine arrays is using the dstack() method. It combines array elements index by index and stacks them along the depth axis:"
   ]
  },
  {
   "cell_type": "code",
   "execution_count": 66,
   "id": "b19e42b8",
   "metadata": {},
   "outputs": [
    {
     "name": "stdout",
     "output_type": "stream",
     "text": [
      "Array 1 : \n",
      " [[1, 2], [3, 4]]\n",
      "Array 2 : \n",
      " [[5, 6], [7, 8]]\n",
      "Dstack : \n",
      " [[[1 5]\n",
      "  [2 6]]\n",
      "\n",
      " [[3 7]\n",
      "  [4 8]]]\n",
      "(2, 2, 2)\n"
     ]
    }
   ],
   "source": [
    "a = [[1,2],[3,4]]\n",
    "b = [[5,6],[7,8]]\n",
    "c = np.dstack((a,b))\n",
    "print('Array 1 :','\\n',a)\n",
    "print('Array 2 :','\\n',b)\n",
    "print('Dstack :','\\n',c)\n",
    "print(c.shape)"
   ]
  },
  {
   "cell_type": "markdown",
   "id": "3c59893e",
   "metadata": {},
   "source": [
    "# Concatenating ndarrays"
   ]
  },
  {
   "cell_type": "markdown",
   "id": "afc56650",
   "metadata": {},
   "source": [
    "- While stacking arrays is one way of combining old arrays to get a new one, you could also use the concatenate() method where the passed arrays are joined along an existing axis:"
   ]
  },
  {
   "cell_type": "code",
   "execution_count": 67,
   "id": "99ecc88e",
   "metadata": {},
   "outputs": [
    {
     "name": "stdout",
     "output_type": "stream",
     "text": [
      "Array 1 : \n",
      " [[0 1 2 3 4]]\n",
      "Array 2 : \n",
      " [[5 6 7 8 9]]\n",
      "Concatenate along rows : \n",
      " [[0 1 2 3 4]\n",
      " [5 6 7 8 9]]\n",
      "Concatenate along columns : \n",
      " [[0 1 2 3 4 5 6 7 8 9]]\n"
     ]
    }
   ],
   "source": [
    "a = np.arange(0,5).reshape(1,5)\n",
    "b = np.arange(5,10).reshape(1,5)\n",
    "print('Array 1 :','\\n',a)\n",
    "print('Array 2 :','\\n',b)\n",
    "print('Concatenate along rows :','\\n',np.concatenate((a,b),axis=0))\n",
    "print('Concatenate along columns :','\\n',np.concatenate((a,b),axis=1))"
   ]
  },
  {
   "cell_type": "markdown",
   "id": "d241d612",
   "metadata": {},
   "source": [
    "- The drawback of this method is that the original array must have the axis along which you want to combine. Otherwise, get ready to be greeted by an error."
   ]
  },
  {
   "cell_type": "markdown",
   "id": "6e352c9b",
   "metadata": {},
   "source": [
    "- Another very useful function is the append method that adds new elements to the end of a ndarray. This is obviously useful when you already have an existing ndarray but want to add new values to it."
   ]
  },
  {
   "cell_type": "code",
   "execution_count": 68,
   "id": "81c171dd",
   "metadata": {},
   "outputs": [
    {
     "data": {
      "text/plain": [
       "array([[1, 2],\n",
       "       [3, 4],\n",
       "       [5, 6]])"
      ]
     },
     "execution_count": 68,
     "metadata": {},
     "output_type": "execute_result"
    }
   ],
   "source": [
    "# append values to ndarray\n",
    "a = np.array([[1,2],\n",
    "             [3,4]])\n",
    "np.append(a,[[5,6]], axis=0)"
   ]
  },
  {
   "cell_type": "markdown",
   "id": "61b3e456",
   "metadata": {},
   "source": [
    "# Arrays of Random Values"
   ]
  },
  {
   "cell_type": "markdown",
   "id": "7ce613c3",
   "metadata": {},
   "source": [
    "- In Numpy there is a module random that is used to generate different kind of random values."
   ]
  },
  {
   "cell_type": "markdown",
   "id": "2f2afe5c",
   "metadata": {},
   "source": [
    "# 1. random()"
   ]
  },
  {
   "cell_type": "markdown",
   "id": "3ac5c234",
   "metadata": {},
   "source": [
    "- generates random values between 0 and 1\n",
    "- np.random.random(the no. of values)"
   ]
  },
  {
   "cell_type": "code",
   "execution_count": 69,
   "id": "cabd7dbd",
   "metadata": {},
   "outputs": [
    {
     "data": {
      "text/plain": [
       "array([0.74306691])"
      ]
     },
     "execution_count": 69,
     "metadata": {},
     "output_type": "execute_result"
    }
   ],
   "source": [
    "np.random.random(1)"
   ]
  },
  {
   "cell_type": "code",
   "execution_count": 70,
   "id": "9afacb1c",
   "metadata": {},
   "outputs": [
    {
     "data": {
      "text/plain": [
       "array([0.07874907, 0.48764526, 0.43438864, 0.24605795, 0.86164072])"
      ]
     },
     "execution_count": 70,
     "metadata": {},
     "output_type": "execute_result"
    }
   ],
   "source": [
    "np.random.random(5)"
   ]
  },
  {
   "cell_type": "markdown",
   "id": "bc4443d1",
   "metadata": {},
   "source": [
    "# 2. rand()"
   ]
  },
  {
   "cell_type": "markdown",
   "id": "b0f8105f",
   "metadata": {},
   "source": [
    "- it returns an array of the given shape of the random values\n",
    "- np.random.rand(rows, cols)"
   ]
  },
  {
   "cell_type": "code",
   "execution_count": 71,
   "id": "4f1f694e",
   "metadata": {},
   "outputs": [
    {
     "data": {
      "text/plain": [
       "array([[0.02002256, 0.45082671, 0.04742287, 0.4977275 ],\n",
       "       [0.858774  , 0.33481566, 0.90159003, 0.12288755],\n",
       "       [0.15743375, 0.78738529, 0.66493906, 0.72020417]])"
      ]
     },
     "execution_count": 71,
     "metadata": {},
     "output_type": "execute_result"
    }
   ],
   "source": [
    "arr = np.random.rand(3,4)\n",
    "arr"
   ]
  },
  {
   "cell_type": "markdown",
   "id": "0b389dcd",
   "metadata": {},
   "source": [
    "# 3. randint()"
   ]
  },
  {
   "cell_type": "markdown",
   "id": "1212b192",
   "metadata": {},
   "source": [
    "- it generates the random int values between a range\n",
    "- np.random.randint(start,stop,number of values)\n",
    "- Stop value is excluded"
   ]
  },
  {
   "cell_type": "code",
   "execution_count": 72,
   "id": "2b424417",
   "metadata": {},
   "outputs": [
    {
     "data": {
      "text/plain": [
       "array([ 1, 10,  6,  2, 10,  8,  7, 10,  8,  5,  8,  1,  2,  6,  2])"
      ]
     },
     "execution_count": 72,
     "metadata": {},
     "output_type": "execute_result"
    }
   ],
   "source": [
    "# Between 1 and 10 generate 15 random int numbers\n",
    "np.random.randint(1,11,15)"
   ]
  },
  {
   "cell_type": "code",
   "execution_count": 73,
   "id": "1d32a2eb",
   "metadata": {},
   "outputs": [
    {
     "data": {
      "text/plain": [
       "array([46, 21, 88, 73, 82, 40, 39, 32, 30, 95, 11, 90])"
      ]
     },
     "execution_count": 73,
     "metadata": {},
     "output_type": "execute_result"
    }
   ],
   "source": [
    "# Between 10 and 100 generate 12 random numbers of two digits\n",
    "np.random.randint(10,100,12)"
   ]
  },
  {
   "cell_type": "markdown",
   "id": "25c3a84e",
   "metadata": {},
   "source": [
    "# 4. seed()"
   ]
  },
  {
   "cell_type": "markdown",
   "id": "a6ec20b7",
   "metadata": {},
   "source": [
    "- it sets the random state for the next execution\n",
    "- np.random.seed(random_state)\n",
    "- random state is an int number from 0 to 2**32-1"
   ]
  },
  {
   "cell_type": "code",
   "execution_count": 74,
   "id": "522cbc7a",
   "metadata": {},
   "outputs": [
    {
     "data": {
      "text/plain": [
       "array([0.22199317, 0.87073231, 0.20671916, 0.91861091, 0.48841119])"
      ]
     },
     "execution_count": 74,
     "metadata": {},
     "output_type": "execute_result"
    }
   ],
   "source": [
    "np.random.seed(5)\n",
    "np.random.random(5)"
   ]
  },
  {
   "cell_type": "code",
   "execution_count": 75,
   "id": "afbcf67a",
   "metadata": {},
   "outputs": [
    {
     "data": {
      "text/plain": [
       "array([87, 36, 49, 82, 39])"
      ]
     },
     "execution_count": 75,
     "metadata": {},
     "output_type": "execute_result"
    }
   ],
   "source": [
    "np.random.seed(55)\n",
    "np.random.randint(10,100,5)"
   ]
  },
  {
   "cell_type": "markdown",
   "id": "dbdfc572",
   "metadata": {},
   "source": [
    "# normal()"
   ]
  },
  {
   "cell_type": "markdown",
   "id": "c664b4bf",
   "metadata": {},
   "source": [
    "- It generates the random values according to the given mean and statndard deviation values and the values are normally distributed.\n",
    "- np.random.normal(mean,standard_deviation,number of values)"
   ]
  },
  {
   "cell_type": "code",
   "execution_count": 76,
   "id": "cc929563",
   "metadata": {},
   "outputs": [
    {
     "data": {
      "text/plain": [
       "array([50.38891629, 46.78262234, 51.42485998, 49.1573529 , 52.32913318,\n",
       "       50.86462692, 45.58417731, 49.90266969, 49.43681428, 52.00485381,\n",
       "       49.3965503 , 52.64131619, 52.93340728, 50.61531296, 51.63040887,\n",
       "       49.61060365, 52.60270308, 51.7174398 , 48.72778535, 52.38263262,\n",
       "       51.00447491, 49.52833924, 48.32266333, 48.40199344, 50.23250798,\n",
       "       50.3443104 , 51.56053693, 49.7401483 , 49.20078697, 50.38763297,\n",
       "       51.78787624, 49.07829926, 52.63251976, 53.09587079, 51.01613577,\n",
       "       52.29620112, 48.56856538, 47.09098862, 47.77189786, 48.8472331 ,\n",
       "       51.69549027, 47.64610664, 49.23032063, 50.90211124, 51.22078075,\n",
       "       50.99968396, 45.606153  , 51.35246848, 48.88035986, 48.9350948 ])"
      ]
     },
     "execution_count": 76,
     "metadata": {},
     "output_type": "execute_result"
    }
   ],
   "source": [
    "# Create an array of 50 nprmally distributed values where the mean is 50 and the standard deviation is 2\n",
    "\n",
    "arr=np.random.normal(50,2,50)\n",
    "arr"
   ]
  },
  {
   "cell_type": "code",
   "execution_count": 77,
   "id": "e84ca81a",
   "metadata": {},
   "outputs": [
    {
     "name": "stderr",
     "output_type": "stream",
     "text": [
      "C:\\ProgramData\\Anaconda3\\lib\\site-packages\\seaborn\\_oldcore.py:1119: FutureWarning: use_inf_as_na option is deprecated and will be removed in a future version. Convert inf values to NaN before operating instead.\n",
      "  with pd.option_context('mode.use_inf_as_na', True):\n"
     ]
    },
    {
     "data": {
      "text/plain": [
       "<Axes: ylabel='Density'>"
      ]
     },
     "execution_count": 77,
     "metadata": {},
     "output_type": "execute_result"
    },
    {
     "data": {
      "image/png": "[encoded data removed]",
      "text/plain": [
       "<Figure size 640x480 with 1 Axes>"
      ]
     },
     "metadata": {},
     "output_type": "display_data"
    }
   ],
   "source": [
    "# checking whether it is normally distributed or not.\n",
    "import seaborn as sns\n",
    "\n",
    "sns.kdeplot(arr)"
   ]
  },
  {
   "cell_type": "markdown",
   "id": "08743fb8",
   "metadata": {},
   "source": [
    "# uniform()"
   ]
  },
  {
   "cell_type": "markdown",
   "id": "dc50711c",
   "metadata": {},
   "source": [
    "- It generates the uniformally distributed random values between a range.\n",
    "- np.random.uniform(start,stop,number of values)"
   ]
  },
  {
   "cell_type": "code",
   "execution_count": 78,
   "id": "c2d20305",
   "metadata": {},
   "outputs": [
    {
     "data": {
      "text/plain": [
       "array([39.13349152, 16.50964355, 27.38985149, 92.69031802, 65.22379066,\n",
       "       13.35420897, 34.67336338, 75.09704143, 94.06566821, 45.84007749,\n",
       "       74.53381908, 83.39185942, 12.73951328, 84.40090457, 53.02231248])"
      ]
     },
     "execution_count": 78,
     "metadata": {},
     "output_type": "execute_result"
    }
   ],
   "source": [
    "# Between 10 and 100 create 15 uniformally distributed values\n",
    "\n",
    "arr=np.random.uniform(10,100,15)\n",
    "arr"
   ]
  },
  {
   "cell_type": "code",
   "execution_count": 79,
   "id": "aa3204c6",
   "metadata": {},
   "outputs": [
    {
     "name": "stderr",
     "output_type": "stream",
     "text": [
      "C:\\ProgramData\\Anaconda3\\lib\\site-packages\\seaborn\\_oldcore.py:1119: FutureWarning: use_inf_as_na option is deprecated and will be removed in a future version. Convert inf values to NaN before operating instead.\n",
      "  with pd.option_context('mode.use_inf_as_na', True):\n"
     ]
    },
    {
     "data": {
      "text/plain": [
       "<Axes: ylabel='Density'>"
      ]
     },
     "execution_count": 79,
     "metadata": {},
     "output_type": "execute_result"
    },
    {
     "data": {
      "image/png": "[encoded data removed]",
      "text/plain": [
       "<Figure size 640x480 with 1 Axes>"
      ]
     },
     "metadata": {},
     "output_type": "display_data"
    }
   ],
   "source": [
    "sns.kdeplot(arr)"
   ]
  },
  {
   "cell_type": "markdown",
   "id": "61e238c7",
   "metadata": {},
   "source": [
    "# Numpy Ufuncs"
   ]
  },
  {
   "cell_type": "markdown",
   "id": "a2548a16",
   "metadata": {},
   "source": [
    "- NumPy Universal functions (ufuncs in short) are simple mathematical functions that operate on ndarray (N-dimensional array) in an element-wise fashion.\n",
    "- It supports array broadcasting, type casting, and several other standard features.\n",
    "- NumPy provides various universal functions like standard trigonometric functions, functions for arithmetic operations, handling complex numbers, statistical functions, etc."
   ]
  },
  {
   "cell_type": "markdown",
   "id": "dd42d694",
   "metadata": {},
   "source": [
    "## Characteristics of Numpy ufuncs"
   ]
  },
  {
   "cell_type": "markdown",
   "id": "53aa9d79",
   "metadata": {},
   "source": [
    "- These functions operate on ndarray (N-dimensional array) i.e. NumPy’s array class.\n",
    "- It performs fast element-wise array operations.\n",
    "- It supports various features like array broadcasting, type casting, etc.\n",
    "- Numpy universal functions are objects that belong to numpy.ufunc class.\n",
    "- Python functions can also be created as a universal function using the frompyfunc library function.\n",
    "- Some ufuncs are called automatically when the corresponding arithmetic operator is used on arrays. For example, when the addition of two arrays is performed element-wise using the ‘+’ operator then np.add() is called internally."
   ]
  },
  {
   "cell_type": "markdown",
   "id": "65978118",
   "metadata": {},
   "source": [
    "## Why ufuncs?"
   ]
  },
  {
   "cell_type": "markdown",
   "id": "08da2385",
   "metadata": {},
   "source": [
    "1. Vectorized Operations\n",
    "    - ufuncs are applied element-wise to all the elements in the ndarray. \n",
    "    - ufuncs are more efficient than loops as they are applied simultaneously to all elements. Vectorization is very useful on large data sets.\n",
    "2. Type Casting\n",
    "    - Type casting means converting the data type of a variable to perform the necessary operation.\n",
    "    - ufuncs automatically handle type casting and ensure compatible datatypes for calculations.\n",
    "    - This allows code to be concise and reduces the chances of error.\n",
    "3. Broadcasting\n",
    "    - Broadcasting means to perform arithmetic operations on arrays of different size.\n",
    "    - ufuncs automatically handle broadcasting and avoids the need for manual array shape manipulation."
   ]
  },
  {
   "cell_type": "markdown",
   "id": "ee8fe2db",
   "metadata": {},
   "source": [
    "## Trigonometric ufuncs"
   ]
  },
  {
   "cell_type": "code",
   "execution_count": 80,
   "id": "c5109606",
   "metadata": {},
   "outputs": [
    {
     "name": "stdout",
     "output_type": "stream",
     "text": [
      "\n",
      "Sine of angles in the array:\n",
      "[0.00000000e+00 5.00000000e-01 7.07106781e-01 8.66025404e-01\n",
      " 1.00000000e+00 1.22464680e-16]\n",
      "\n",
      "Inverse Sine of sine values:\n",
      "[0.0000000e+00 3.0000000e+01 4.5000000e+01 6.0000000e+01 9.0000000e+01\n",
      " 7.0167093e-15]\n",
      "\n",
      "Sine hyperbolic of angles in the array:\n",
      "[ 0.          0.54785347  0.86867096  1.24936705  2.3012989  11.54873936]\n",
      "\n",
      "Inverse Sine hyperbolic:\n",
      "[ 0.          0.52085606  0.76347126  0.94878485  0.74483916 -0.85086591]\n",
      "\n",
      "hypotenuse of right triangle is:\n",
      "5.0\n",
      "\n"
     ]
    }
   ],
   "source": [
    "# Python code to demonstrate trigonometric function \n",
    "import numpy as np \n",
    "  \n",
    "# create an array of angles \n",
    "angles = np.array([0, 30, 45, 60, 90, 180])  \n",
    "  \n",
    "# conversion of degree into radians \n",
    "# using deg2rad function \n",
    "radians = np.deg2rad(angles) \n",
    "print()\n",
    "  \n",
    "# sine of angles \n",
    "print('Sine of angles in the array:') \n",
    "sine_value = np.sin(radians) \n",
    "print(np.sin(radians)) \n",
    "print()\n",
    "  \n",
    "# inverse sine of sine values \n",
    "print('Inverse Sine of sine values:') \n",
    "print(np.rad2deg(np.arcsin(sine_value))) \n",
    "print()\n",
    "  \n",
    "# hyperbolic sine of angles \n",
    "print('Sine hyperbolic of angles in the array:') \n",
    "sineh_value = np.sinh(radians) \n",
    "print(np.sinh(radians)) \n",
    "print()\n",
    "  \n",
    "# inverse sine hyperbolic  \n",
    "print('Inverse Sine hyperbolic:') \n",
    "print(np.sin(sineh_value))  \n",
    "print()\n",
    "  \n",
    "# hypot function demonstration \n",
    "base = 4\n",
    "height = 3\n",
    "print('hypotenuse of right triangle is:') \n",
    "print(np.hypot(base, height))\n",
    "print()\n"
   ]
  },
  {
   "cell_type": "markdown",
   "id": "4a8a0493",
   "metadata": {},
   "source": [
    "## Statistical ufuncs"
   ]
  },
  {
   "cell_type": "code",
   "execution_count": 81,
   "id": "07197c70",
   "metadata": {},
   "outputs": [
    {
     "name": "stdout",
     "output_type": "stream",
     "text": [
      "Minimum and maximum weight of the students: \n",
      "45.0 73.25\n",
      "\n",
      "Range of the weight of the students: \n",
      "28.25\n",
      "\n",
      "Weight below which 70 % student fall: \n",
      "55.317\n",
      "\n",
      "Mean weight of the students: \n",
      "54.3225\n",
      "\n",
      "Median weight of the students: \n",
      "51.6\n",
      "\n",
      "Standard deviation of weight of the students: \n",
      "8.052773978574091\n",
      "\n",
      "Variance of weight of the students: \n",
      "64.84716875\n",
      "\n",
      "Average weight of the students: \n",
      "54.3225\n",
      "\n"
     ]
    }
   ],
   "source": [
    "# Python code demonstrate statistical function \n",
    "import numpy as np \n",
    "  \n",
    "# construct a weight array \n",
    "weight = np.array([50.7, 52.5, 50, 58, 55.63, 73.25, 49.5, 45]) \n",
    "  \n",
    "# minimum and maximum  \n",
    "print('Minimum and maximum weight of the students: ') \n",
    "print(np.amin(weight), np.amax(weight)) \n",
    "print()\n",
    "\n",
    "# range of weight i.e. max weight-min weight \n",
    "print('Range of the weight of the students: ') \n",
    "print(np.ptp(weight)) \n",
    "print()\n",
    "  \n",
    "# percentile \n",
    "print('Weight below which 70 % student fall: ') \n",
    "print(np.percentile(weight, 70)) \n",
    "print()\n",
    "   \n",
    "# mean  \n",
    "print('Mean weight of the students: ') \n",
    "print(np.mean(weight)) \n",
    "print()\n",
    "  \n",
    "# median  \n",
    "print('Median weight of the students: ') \n",
    "print(np.median(weight)) \n",
    "print()\n",
    "  \n",
    "# standard deviation  \n",
    "print('Standard deviation of weight of the students: ') \n",
    "print(np.std(weight)) \n",
    "print()\n",
    "  \n",
    "# variance  \n",
    "print('Variance of weight of the students: ') \n",
    "print(np.var(weight)) \n",
    "print()\n",
    "  \n",
    "# average  \n",
    "print('Average weight of the students: ') \n",
    "print(np.average(weight)) \n",
    "print()\n"
   ]
  },
  {
   "cell_type": "markdown",
   "id": "08acb91e",
   "metadata": {},
   "source": [
    "## Bit-twiddling ufuncs"
   ]
  },
  {
   "cell_type": "code",
   "execution_count": 82,
   "id": "10de084e",
   "metadata": {},
   "outputs": [
    {
     "name": "stdout",
     "output_type": "stream",
     "text": [
      "bitwise_and of two arrays: \n",
      "[ 0  2  4  6  8 16 32]\n",
      "\n",
      "bitwise_or of two arrays: \n",
      "[ 1  3  5  7  9 17 33]\n",
      "\n",
      "bitwise_xor of two arrays: \n",
      "[1 1 1 1 1 1 1]\n",
      "\n",
      "inversion of even no. array: \n",
      "[ -1  -3  -5  -7  -9 -17 -33]\n",
      "\n",
      "left_shift of even no. array: \n",
      "[ 0  4  8 12 16 32 64]\n",
      "\n",
      "right_shift of even no. array: \n",
      "[ 0  1  2  3  4  8 16]\n",
      "\n"
     ]
    }
   ],
   "source": [
    "# Python code to demonstrate bitwise-function \n",
    "import numpy as np \n",
    "  \n",
    "# construct an array of even and odd numbers \n",
    "even = np.array([0, 2, 4, 6, 8, 16, 32]) \n",
    "odd = np.array([1, 3, 5, 7, 9, 17, 33]) \n",
    "  \n",
    "# bitwise_and \n",
    "print('bitwise_and of two arrays: ') \n",
    "print(np.bitwise_and(even, odd)) \n",
    "print()\n",
    "\n",
    "# bitwise_or \n",
    "print('bitwise_or of two arrays: ') \n",
    "print(np.bitwise_or(even, odd)) \n",
    "print()\n",
    "\n",
    "# bitwise_xor \n",
    "print('bitwise_xor of two arrays: ') \n",
    "print(np.bitwise_xor(even, odd)) \n",
    "print()\n",
    "   \n",
    "# invert or not \n",
    "print('inversion of even no. array: ') \n",
    "print(np.invert(even)) \n",
    "print()\n",
    "  \n",
    "# left_shift  \n",
    "print('left_shift of even no. array: ') \n",
    "print(np.left_shift(even, 1)) \n",
    "print()\n",
    "  \n",
    "# right_shift  \n",
    "print('right_shift of even no. array: ') \n",
    "print(np.right_shift(even, 1))\n",
    "print()\n"
   ]
  },
  {
   "cell_type": "markdown",
   "id": "cc0e07ca",
   "metadata": {},
   "source": [
    "# Functions in Numpy arrays"
   ]
  },
  {
   "cell_type": "markdown",
   "id": "7decbcd4",
   "metadata": {},
   "source": [
    "## 1. sum()"
   ]
  },
  {
   "cell_type": "code",
   "execution_count": 83,
   "id": "e69218bf",
   "metadata": {},
   "outputs": [
    {
     "data": {
      "text/plain": [
       "array([61, 24, 81, 70, 30, 92, 96, 84, 84, 97, 33, 12])"
      ]
     },
     "execution_count": 83,
     "metadata": {},
     "output_type": "execute_result"
    }
   ],
   "source": [
    "np.random.seed(42)\n",
    "arr=np.random.randint(10,100,12)\n",
    "arr"
   ]
  },
  {
   "cell_type": "code",
   "execution_count": 84,
   "id": "39769b0e",
   "metadata": {},
   "outputs": [
    {
     "data": {
      "text/plain": [
       "764"
      ]
     },
     "execution_count": 84,
     "metadata": {},
     "output_type": "execute_result"
    }
   ],
   "source": [
    "np.sum(arr)"
   ]
  },
  {
   "cell_type": "code",
   "execution_count": 85,
   "id": "4cb206ed",
   "metadata": {},
   "outputs": [],
   "source": [
    "# axis=0- Row wise operation (It reads the array top to bottom)\n",
    "# axis=1- Column wise operation (It reads the array left to right)"
   ]
  },
  {
   "cell_type": "code",
   "execution_count": 86,
   "id": "4e97a6c7",
   "metadata": {},
   "outputs": [
    {
     "data": {
      "text/plain": [
       "array([[61, 24, 81, 70],\n",
       "       [30, 92, 96, 84],\n",
       "       [84, 97, 33, 12]])"
      ]
     },
     "execution_count": 86,
     "metadata": {},
     "output_type": "execute_result"
    }
   ],
   "source": [
    "np.random.seed(42)\n",
    "arr=np.random.randint(10,100,12).reshape(3,4)\n",
    "arr"
   ]
  },
  {
   "cell_type": "code",
   "execution_count": 87,
   "id": "4e88051d",
   "metadata": {},
   "outputs": [
    {
     "data": {
      "text/plain": [
       "array([236, 302, 226])"
      ]
     },
     "execution_count": 87,
     "metadata": {},
     "output_type": "execute_result"
    }
   ],
   "source": [
    "np.sum(arr, axis=1)"
   ]
  },
  {
   "cell_type": "code",
   "execution_count": 88,
   "id": "c68ba844",
   "metadata": {},
   "outputs": [
    {
     "data": {
      "text/plain": [
       "array([175, 213, 210, 166])"
      ]
     },
     "execution_count": 88,
     "metadata": {},
     "output_type": "execute_result"
    }
   ],
   "source": [
    "np.sum(arr, axis=0)"
   ]
  },
  {
   "cell_type": "markdown",
   "id": "a49d95e1",
   "metadata": {},
   "source": [
    "## 2. max()"
   ]
  },
  {
   "cell_type": "markdown",
   "id": "b400a3d2",
   "metadata": {},
   "source": [
    "- np.max(arr,axis=0,1)\n",
    "- arr.max(axis=0,1)"
   ]
  },
  {
   "cell_type": "code",
   "execution_count": 89,
   "id": "03e5bf57",
   "metadata": {},
   "outputs": [
    {
     "data": {
      "text/plain": [
       "array([[61, 24, 81, 70],\n",
       "       [30, 92, 96, 84],\n",
       "       [84, 97, 33, 12]])"
      ]
     },
     "execution_count": 89,
     "metadata": {},
     "output_type": "execute_result"
    }
   ],
   "source": [
    "arr"
   ]
  },
  {
   "cell_type": "code",
   "execution_count": 90,
   "id": "779494c2",
   "metadata": {},
   "outputs": [
    {
     "data": {
      "text/plain": [
       "array([84, 97, 96, 84])"
      ]
     },
     "execution_count": 90,
     "metadata": {},
     "output_type": "execute_result"
    }
   ],
   "source": [
    "np.max(arr, axis=0)"
   ]
  },
  {
   "cell_type": "code",
   "execution_count": 91,
   "id": "a8da3c51",
   "metadata": {},
   "outputs": [
    {
     "data": {
      "text/plain": [
       "array([81, 96, 97])"
      ]
     },
     "execution_count": 91,
     "metadata": {},
     "output_type": "execute_result"
    }
   ],
   "source": [
    "np.max(arr, axis=1)"
   ]
  },
  {
   "cell_type": "markdown",
   "id": "91119349",
   "metadata": {},
   "source": [
    "## 3. min()"
   ]
  },
  {
   "cell_type": "markdown",
   "id": "d2d8c906",
   "metadata": {},
   "source": [
    "- np.min(arr,axis=0,1)\n",
    "- arr.min(axis=0,1)"
   ]
  },
  {
   "cell_type": "code",
   "execution_count": 92,
   "id": "79664b04",
   "metadata": {},
   "outputs": [
    {
     "data": {
      "text/plain": [
       "array([[61, 24, 81, 70],\n",
       "       [30, 92, 96, 84],\n",
       "       [84, 97, 33, 12]])"
      ]
     },
     "execution_count": 92,
     "metadata": {},
     "output_type": "execute_result"
    }
   ],
   "source": [
    "arr"
   ]
  },
  {
   "cell_type": "code",
   "execution_count": 93,
   "id": "c6a75998",
   "metadata": {},
   "outputs": [
    {
     "data": {
      "text/plain": [
       "array([24, 30, 12])"
      ]
     },
     "execution_count": 93,
     "metadata": {},
     "output_type": "execute_result"
    }
   ],
   "source": [
    "np.min(arr,axis=1)"
   ]
  },
  {
   "cell_type": "code",
   "execution_count": 94,
   "id": "ae406fc7",
   "metadata": {},
   "outputs": [
    {
     "data": {
      "text/plain": [
       "array([30, 24, 33, 12])"
      ]
     },
     "execution_count": 94,
     "metadata": {},
     "output_type": "execute_result"
    }
   ],
   "source": [
    "np.min(arr,axis=0)"
   ]
  },
  {
   "cell_type": "markdown",
   "id": "417fde4b",
   "metadata": {},
   "source": [
    "## 4. mean()"
   ]
  },
  {
   "cell_type": "markdown",
   "id": "6b0139b3",
   "metadata": {},
   "source": [
    "- np.mean(arr,axis)\n",
    "- arr.mean(axis)"
   ]
  },
  {
   "cell_type": "code",
   "execution_count": 95,
   "id": "687cf257",
   "metadata": {},
   "outputs": [
    {
     "data": {
      "text/plain": [
       "array([[61, 24, 81, 70],\n",
       "       [30, 92, 96, 84],\n",
       "       [84, 97, 33, 12]])"
      ]
     },
     "execution_count": 95,
     "metadata": {},
     "output_type": "execute_result"
    }
   ],
   "source": [
    "arr"
   ]
  },
  {
   "cell_type": "code",
   "execution_count": 96,
   "id": "1ed99d57",
   "metadata": {},
   "outputs": [
    {
     "data": {
      "text/plain": [
       "array([58.33333333, 71.        , 70.        , 55.33333333])"
      ]
     },
     "execution_count": 96,
     "metadata": {},
     "output_type": "execute_result"
    }
   ],
   "source": [
    "np.mean(arr,axis=0)"
   ]
  },
  {
   "cell_type": "code",
   "execution_count": 97,
   "id": "3994860e",
   "metadata": {},
   "outputs": [
    {
     "data": {
      "text/plain": [
       "array([59. , 75.5, 56.5])"
      ]
     },
     "execution_count": 97,
     "metadata": {},
     "output_type": "execute_result"
    }
   ],
   "source": [
    "np.mean(arr,axis=1)"
   ]
  },
  {
   "cell_type": "markdown",
   "id": "3a1676f3",
   "metadata": {},
   "source": [
    "## 5. median()"
   ]
  },
  {
   "cell_type": "markdown",
   "id": "90a244a4",
   "metadata": {},
   "source": [
    "- np.median(arr,axis)"
   ]
  },
  {
   "cell_type": "code",
   "execution_count": 98,
   "id": "734b788f",
   "metadata": {},
   "outputs": [
    {
     "data": {
      "text/plain": [
       "array([[61, 24, 81, 70],\n",
       "       [30, 92, 96, 84],\n",
       "       [84, 97, 33, 12]])"
      ]
     },
     "execution_count": 98,
     "metadata": {},
     "output_type": "execute_result"
    }
   ],
   "source": [
    "arr"
   ]
  },
  {
   "cell_type": "code",
   "execution_count": 99,
   "id": "fcd46b9f",
   "metadata": {},
   "outputs": [
    {
     "data": {
      "text/plain": [
       "array([61., 92., 81., 70.])"
      ]
     },
     "execution_count": 99,
     "metadata": {},
     "output_type": "execute_result"
    }
   ],
   "source": [
    "np.median(arr,axis=0)"
   ]
  },
  {
   "cell_type": "code",
   "execution_count": 100,
   "id": "afc6efd2",
   "metadata": {},
   "outputs": [
    {
     "data": {
      "text/plain": [
       "array([65.5, 88. , 58.5])"
      ]
     },
     "execution_count": 100,
     "metadata": {},
     "output_type": "execute_result"
    }
   ],
   "source": [
    "np.median(arr,axis=1)"
   ]
  },
  {
   "cell_type": "markdown",
   "id": "b4dec970",
   "metadata": {},
   "source": [
    "## 6. mode()"
   ]
  },
  {
   "cell_type": "markdown",
   "id": "4477196c",
   "metadata": {},
   "source": [
    "- It returns the mode of the array.\n",
    "- The mode is the number with the highest frequency.\n",
    "- In Numpy we don't have mode function.\n",
    "- Inside Stats module in Scipy library mode() is available."
   ]
  },
  {
   "cell_type": "code",
   "execution_count": 101,
   "id": "4f58a934",
   "metadata": {},
   "outputs": [],
   "source": [
    "from scipy import stats"
   ]
  },
  {
   "cell_type": "code",
   "execution_count": 102,
   "id": "c6953ae5",
   "metadata": {},
   "outputs": [
    {
     "data": {
      "text/plain": [
       "array([20, 10, 30, 50, 10, 70, 10, 90, 10, 10])"
      ]
     },
     "execution_count": 102,
     "metadata": {},
     "output_type": "execute_result"
    }
   ],
   "source": [
    "m=np.array([20,10,30,50,10,70,10,90,10,10])\n",
    "m"
   ]
  },
  {
   "cell_type": "code",
   "execution_count": 103,
   "id": "d141774a",
   "metadata": {},
   "outputs": [
    {
     "data": {
      "text/plain": [
       "ModeResult(mode=array([10]), count=array([5], dtype=int64))"
      ]
     },
     "execution_count": 103,
     "metadata": {},
     "output_type": "execute_result"
    }
   ],
   "source": [
    "stats.mode(m,keepdims=True)"
   ]
  },
  {
   "cell_type": "code",
   "execution_count": 104,
   "id": "a5fbfb59",
   "metadata": {},
   "outputs": [
    {
     "data": {
      "text/plain": [
       "ModeResult(mode=10, count=5)"
      ]
     },
     "execution_count": 104,
     "metadata": {},
     "output_type": "execute_result"
    }
   ],
   "source": [
    "stats.mode(m,keepdims=False)"
   ]
  },
  {
   "cell_type": "markdown",
   "id": "a470d67c",
   "metadata": {},
   "source": [
    "## 7. std()"
   ]
  },
  {
   "cell_type": "markdown",
   "id": "103e0230",
   "metadata": {},
   "source": [
    "- arr.std(axis)\n",
    "- np.std(arr,axis)"
   ]
  },
  {
   "cell_type": "code",
   "execution_count": 105,
   "id": "9aa4954d",
   "metadata": {},
   "outputs": [
    {
     "data": {
      "text/plain": [
       "array([[61, 24, 81, 70],\n",
       "       [30, 92, 96, 84],\n",
       "       [84, 97, 33, 12]])"
      ]
     },
     "execution_count": 105,
     "metadata": {},
     "output_type": "execute_result"
    }
   ],
   "source": [
    "arr"
   ]
  },
  {
   "cell_type": "code",
   "execution_count": 106,
   "id": "4b4b4dd6",
   "metadata": {},
   "outputs": [
    {
     "data": {
      "text/plain": [
       "29.51082663852182"
      ]
     },
     "execution_count": 106,
     "metadata": {},
     "output_type": "execute_result"
    }
   ],
   "source": [
    "np.std(arr)"
   ]
  },
  {
   "cell_type": "code",
   "execution_count": 107,
   "id": "7ec83a32",
   "metadata": {},
   "outputs": [
    {
     "data": {
      "text/plain": [
       "array([22.12590237, 33.29664648, 26.87005769, 31.16978594])"
      ]
     },
     "execution_count": 107,
     "metadata": {},
     "output_type": "execute_result"
    }
   ],
   "source": [
    "np.std(arr, axis=0)"
   ]
  },
  {
   "cell_type": "code",
   "execution_count": 108,
   "id": "88a7b719",
   "metadata": {},
   "outputs": [
    {
     "data": {
      "text/plain": [
       "array([21.41261311, 26.62235902, 35.10341864])"
      ]
     },
     "execution_count": 108,
     "metadata": {},
     "output_type": "execute_result"
    }
   ],
   "source": [
    "np.std(arr, axis=1)"
   ]
  },
  {
   "cell_type": "markdown",
   "id": "d78bb998",
   "metadata": {},
   "source": [
    "## 8. var()"
   ]
  },
  {
   "cell_type": "markdown",
   "id": "807613d7",
   "metadata": {},
   "source": [
    "- arr.var(axis)\n",
    "- np.var(arr,axis)"
   ]
  },
  {
   "cell_type": "code",
   "execution_count": 109,
   "id": "65731908",
   "metadata": {},
   "outputs": [
    {
     "data": {
      "text/plain": [
       "870.888888888889"
      ]
     },
     "execution_count": 109,
     "metadata": {},
     "output_type": "execute_result"
    }
   ],
   "source": [
    "np.var(arr)"
   ]
  },
  {
   "cell_type": "code",
   "execution_count": 110,
   "id": "d807cd00",
   "metadata": {},
   "outputs": [
    {
     "data": {
      "text/plain": [
       "array([ 489.55555556, 1108.66666667,  722.        ,  971.55555556])"
      ]
     },
     "execution_count": 110,
     "metadata": {},
     "output_type": "execute_result"
    }
   ],
   "source": [
    "np.var(arr, axis=0)"
   ]
  },
  {
   "cell_type": "code",
   "execution_count": 111,
   "id": "9d8dcdeb",
   "metadata": {},
   "outputs": [
    {
     "data": {
      "text/plain": [
       "array([ 458.5 ,  708.75, 1232.25])"
      ]
     },
     "execution_count": 111,
     "metadata": {},
     "output_type": "execute_result"
    }
   ],
   "source": [
    "np.var(arr, axis=1)"
   ]
  },
  {
   "cell_type": "markdown",
   "id": "fb5bdfeb",
   "metadata": {},
   "source": [
    "## 9. Percentile()"
   ]
  },
  {
   "cell_type": "markdown",
   "id": "b2400cd4",
   "metadata": {},
   "source": [
    "- np.percentile(arr,percentile_value)"
   ]
  },
  {
   "cell_type": "code",
   "execution_count": 112,
   "id": "0d618068",
   "metadata": {},
   "outputs": [
    {
     "data": {
      "text/plain": [
       "array([[61, 24, 81, 70],\n",
       "       [30, 92, 96, 84],\n",
       "       [84, 97, 33, 12]])"
      ]
     },
     "execution_count": 112,
     "metadata": {},
     "output_type": "execute_result"
    }
   ],
   "source": [
    "arr"
   ]
  },
  {
   "cell_type": "code",
   "execution_count": 113,
   "id": "57502cd5",
   "metadata": {},
   "outputs": [
    {
     "data": {
      "text/plain": [
       "75.5"
      ]
     },
     "execution_count": 113,
     "metadata": {},
     "output_type": "execute_result"
    }
   ],
   "source": [
    "# Get the 50th percentile value of the array\n",
    "np.percentile(arr,50)"
   ]
  },
  {
   "cell_type": "code",
   "execution_count": 114,
   "id": "6f0fcd1c",
   "metadata": {},
   "outputs": [
    {
     "data": {
      "text/plain": [
       "96.89"
      ]
     },
     "execution_count": 114,
     "metadata": {},
     "output_type": "execute_result"
    }
   ],
   "source": [
    "# 99th percentile value from the array\n",
    "np.percentile(arr,99)"
   ]
  },
  {
   "cell_type": "markdown",
   "id": "0a80dae3",
   "metadata": {},
   "source": [
    "## 10. sqrt()"
   ]
  },
  {
   "cell_type": "code",
   "execution_count": 115,
   "id": "e61d0d56",
   "metadata": {},
   "outputs": [
    {
     "data": {
      "text/plain": [
       "array([[7.81024968, 4.89897949, 9.        , 8.36660027],\n",
       "       [5.47722558, 9.59166305, 9.79795897, 9.16515139],\n",
       "       [9.16515139, 9.8488578 , 5.74456265, 3.46410162]])"
      ]
     },
     "execution_count": 115,
     "metadata": {},
     "output_type": "execute_result"
    }
   ],
   "source": [
    "np.sqrt(arr)"
   ]
  },
  {
   "cell_type": "markdown",
   "id": "13bddbd3",
   "metadata": {},
   "source": [
    "## 11. round()"
   ]
  },
  {
   "cell_type": "markdown",
   "id": "6f8a682a",
   "metadata": {},
   "source": [
    "- np.round(arr,number of decimals we want)"
   ]
  },
  {
   "cell_type": "code",
   "execution_count": 116,
   "id": "4979bbdf",
   "metadata": {},
   "outputs": [
    {
     "data": {
      "text/plain": [
       "array([[7.81024968, 4.89897949, 9.        , 8.36660027],\n",
       "       [5.47722558, 9.59166305, 9.79795897, 9.16515139],\n",
       "       [9.16515139, 9.8488578 , 5.74456265, 3.46410162]])"
      ]
     },
     "execution_count": 116,
     "metadata": {},
     "output_type": "execute_result"
    }
   ],
   "source": [
    "d=np.array([[7.81024968, 4.89897949, 9.        , 8.36660027],\n",
    "       [5.47722558, 9.59166305, 9.79795897, 9.16515139],\n",
    "       [9.16515139, 9.8488578 , 5.74456265, 3.46410162]])\n",
    "d"
   ]
  },
  {
   "cell_type": "code",
   "execution_count": 117,
   "id": "3e1c9a9e",
   "metadata": {},
   "outputs": [
    {
     "data": {
      "text/plain": [
       "array([[ 8.,  5.,  9.,  8.],\n",
       "       [ 5., 10., 10.,  9.],\n",
       "       [ 9., 10.,  6.,  3.]])"
      ]
     },
     "execution_count": 117,
     "metadata": {},
     "output_type": "execute_result"
    }
   ],
   "source": [
    "np.round(d)"
   ]
  },
  {
   "cell_type": "code",
   "execution_count": 118,
   "id": "eb668317",
   "metadata": {},
   "outputs": [
    {
     "data": {
      "text/plain": [
       "array([[7.81, 4.9 , 9.  , 8.37],\n",
       "       [5.48, 9.59, 9.8 , 9.17],\n",
       "       [9.17, 9.85, 5.74, 3.46]])"
      ]
     },
     "execution_count": 118,
     "metadata": {},
     "output_type": "execute_result"
    }
   ],
   "source": [
    "np.round(d,2)"
   ]
  },
  {
   "cell_type": "markdown",
   "id": "1abe0a44",
   "metadata": {},
   "source": [
    "## 12. argwhere()"
   ]
  },
  {
   "cell_type": "markdown",
   "id": "a200a17a",
   "metadata": {},
   "source": [
    "- It returns the indexes of the elements according to the condition passed.\n",
    "- By default it returns the indexes of all non-zero elements in the array.\n",
    "- np.argwhere(arr)\n",
    "- np.argwhere(condition)"
   ]
  },
  {
   "cell_type": "code",
   "execution_count": 119,
   "id": "6e3509b2",
   "metadata": {},
   "outputs": [
    {
     "data": {
      "text/plain": [
       "array([10, 20, 30,  0, 40, 50,  0, 60, 80,  0, 90])"
      ]
     },
     "execution_count": 119,
     "metadata": {},
     "output_type": "execute_result"
    }
   ],
   "source": [
    "arr=np.array([10,20,30,0,40,50,0,60,80,0,90])\n",
    "arr"
   ]
  },
  {
   "cell_type": "code",
   "execution_count": 120,
   "id": "c7eb450c",
   "metadata": {},
   "outputs": [
    {
     "data": {
      "text/plain": [
       "array([[ 0],\n",
       "       [ 1],\n",
       "       [ 2],\n",
       "       [ 4],\n",
       "       [ 5],\n",
       "       [ 7],\n",
       "       [ 8],\n",
       "       [10]], dtype=int64)"
      ]
     },
     "execution_count": 120,
     "metadata": {},
     "output_type": "execute_result"
    }
   ],
   "source": [
    "np.argwhere(arr)"
   ]
  },
  {
   "cell_type": "code",
   "execution_count": 121,
   "id": "39f6d7bf",
   "metadata": {},
   "outputs": [
    {
     "data": {
      "text/plain": [
       "(array([ 0,  1,  2,  3,  4,  5,  6,  7,  8,  9, 10], dtype=int64),)"
      ]
     },
     "execution_count": 121,
     "metadata": {},
     "output_type": "execute_result"
    }
   ],
   "source": [
    "np.where(arr>=0)"
   ]
  },
  {
   "cell_type": "code",
   "execution_count": 122,
   "id": "21df8139",
   "metadata": {},
   "outputs": [
    {
     "data": {
      "text/plain": [
       "array([[ 7],\n",
       "       [ 8],\n",
       "       [10]], dtype=int64)"
      ]
     },
     "execution_count": 122,
     "metadata": {},
     "output_type": "execute_result"
    }
   ],
   "source": [
    "np.argwhere(arr>50)"
   ]
  },
  {
   "cell_type": "markdown",
   "id": "4ac71d6f",
   "metadata": {},
   "source": [
    "## 13. argmax()"
   ]
  },
  {
   "cell_type": "markdown",
   "id": "27d82e4c",
   "metadata": {},
   "source": [
    "- It returns the index of the maximum element.\n",
    "- If two or more numbers are maximum then it returns the index of the first maximum number.\n",
    "- It considers a 2-D or 3-D array as a 1-D array."
   ]
  },
  {
   "cell_type": "code",
   "execution_count": 123,
   "id": "f4792741",
   "metadata": {},
   "outputs": [
    {
     "data": {
      "text/plain": [
       "array([10, 20, 30,  0, 40, 50,  0, 60, 80,  0, 90])"
      ]
     },
     "execution_count": 123,
     "metadata": {},
     "output_type": "execute_result"
    }
   ],
   "source": [
    "arr"
   ]
  },
  {
   "cell_type": "code",
   "execution_count": 124,
   "id": "b3efbf82",
   "metadata": {},
   "outputs": [
    {
     "data": {
      "text/plain": [
       "10"
      ]
     },
     "execution_count": 124,
     "metadata": {},
     "output_type": "execute_result"
    }
   ],
   "source": [
    "np.argmax(arr)"
   ]
  },
  {
   "cell_type": "code",
   "execution_count": 125,
   "id": "797aefc4",
   "metadata": {},
   "outputs": [
    {
     "data": {
      "text/plain": [
       "array([[30, 45, 55, 69],\n",
       "       [13, 94, 13, 33],\n",
       "       [65, 32, 99, 77]])"
      ]
     },
     "execution_count": 125,
     "metadata": {},
     "output_type": "execute_result"
    }
   ],
   "source": [
    "np.random.seed(44)\n",
    "arr=np.random.randint(10,100,12).reshape(3,4)\n",
    "arr"
   ]
  },
  {
   "cell_type": "code",
   "execution_count": 126,
   "id": "8403677e",
   "metadata": {},
   "outputs": [
    {
     "data": {
      "text/plain": [
       "10"
      ]
     },
     "execution_count": 126,
     "metadata": {},
     "output_type": "execute_result"
    }
   ],
   "source": [
    "arr.argmax()"
   ]
  },
  {
   "cell_type": "markdown",
   "id": "2962ab0a",
   "metadata": {},
   "source": [
    "## 14. argmin()"
   ]
  },
  {
   "cell_type": "markdown",
   "id": "feaf8d2f",
   "metadata": {},
   "source": [
    "- It returns the index of the minimum element.\n",
    "- If two or more numbers are minimum then it returns the index of the first minimum number.\n",
    "- It considers a 2-D or 3-D array as a 1-D array."
   ]
  },
  {
   "cell_type": "code",
   "execution_count": 127,
   "id": "914b676d",
   "metadata": {},
   "outputs": [
    {
     "data": {
      "text/plain": [
       "4"
      ]
     },
     "execution_count": 127,
     "metadata": {},
     "output_type": "execute_result"
    }
   ],
   "source": [
    "np.argmin(arr)"
   ]
  },
  {
   "cell_type": "markdown",
   "id": "d0b5f510",
   "metadata": {},
   "source": [
    "## 15. where()"
   ]
  },
  {
   "cell_type": "markdown",
   "id": "8dc42a69",
   "metadata": {},
   "source": [
    "## Case-1"
   ]
  },
  {
   "cell_type": "markdown",
   "id": "99d8c9ba",
   "metadata": {},
   "source": [
    "- np.where(condition)\n",
    "- In this case it returns the indexes of all the elements where the condition is satisfied."
   ]
  },
  {
   "cell_type": "code",
   "execution_count": 128,
   "id": "16aebb24",
   "metadata": {},
   "outputs": [
    {
     "data": {
      "text/plain": [
       "array([[30, 45, 55, 69],\n",
       "       [13, 94, 13, 33],\n",
       "       [65, 32, 99, 77]])"
      ]
     },
     "execution_count": 128,
     "metadata": {},
     "output_type": "execute_result"
    }
   ],
   "source": [
    "arr"
   ]
  },
  {
   "cell_type": "code",
   "execution_count": 129,
   "id": "2960e8a3",
   "metadata": {},
   "outputs": [
    {
     "data": {
      "text/plain": [
       "(array([0, 0, 0, 1, 2, 2, 2], dtype=int64),\n",
       " array([1, 2, 3, 1, 0, 2, 3], dtype=int64))"
      ]
     },
     "execution_count": 129,
     "metadata": {},
     "output_type": "execute_result"
    }
   ],
   "source": [
    "np.where(arr>40)"
   ]
  },
  {
   "cell_type": "code",
   "execution_count": 130,
   "id": "b74ac9a4",
   "metadata": {},
   "outputs": [
    {
     "data": {
      "text/plain": [
       "array([45, 55, 69, 94, 65, 99, 77])"
      ]
     },
     "execution_count": 130,
     "metadata": {},
     "output_type": "execute_result"
    }
   ],
   "source": [
    "arr[np.where(arr>40)]"
   ]
  },
  {
   "cell_type": "markdown",
   "id": "06e1e018",
   "metadata": {},
   "source": [
    "## Case-2"
   ]
  },
  {
   "cell_type": "markdown",
   "id": "d3dee54f",
   "metadata": {},
   "source": [
    "- np.where(condition,x,y)\n",
    "- In this case if the condition is True x will be result else y will be the result."
   ]
  },
  {
   "cell_type": "code",
   "execution_count": 131,
   "id": "9091c446",
   "metadata": {},
   "outputs": [
    {
     "data": {
      "text/plain": [
       "array([[30, 45, 55, 69],\n",
       "       [13, 94, 13, 33],\n",
       "       [65, 32, 99, 77]])"
      ]
     },
     "execution_count": 131,
     "metadata": {},
     "output_type": "execute_result"
    }
   ],
   "source": [
    "arr"
   ]
  },
  {
   "cell_type": "code",
   "execution_count": 132,
   "id": "6eab44a3",
   "metadata": {},
   "outputs": [
    {
     "data": {
      "text/plain": [
       "array([[0, 1, 1, 1],\n",
       "       [0, 1, 0, 0],\n",
       "       [1, 0, 1, 1]])"
      ]
     },
     "execution_count": 132,
     "metadata": {},
     "output_type": "execute_result"
    }
   ],
   "source": [
    "# The numbers>40 should be converted to 1 and <40 should be converted to 0\n",
    "\n",
    "np.where(arr>40,1,0)"
   ]
  },
  {
   "cell_type": "markdown",
   "id": "60432178",
   "metadata": {},
   "source": [
    "## Case-3"
   ]
  },
  {
   "cell_type": "markdown",
   "id": "308cae01",
   "metadata": {},
   "source": [
    "- npwhere(condition,x,arr)"
   ]
  },
  {
   "cell_type": "code",
   "execution_count": 133,
   "id": "0ebac5a4",
   "metadata": {},
   "outputs": [
    {
     "data": {
      "text/plain": [
       "array([[ 0, 45, 55, 69],\n",
       "       [ 0, 94,  0,  0],\n",
       "       [65,  0, 99, 77]])"
      ]
     },
     "execution_count": 133,
     "metadata": {},
     "output_type": "execute_result"
    }
   ],
   "source": [
    "# The numbers<40 should be converted to 0 otherwise no change in values\n",
    "\n",
    "np.where(arr<40,0,arr)"
   ]
  },
  {
   "cell_type": "markdown",
   "id": "fc3cfb6a",
   "metadata": {},
   "source": [
    "## 16. clip()"
   ]
  },
  {
   "cell_type": "markdown",
   "id": "a12fff5a",
   "metadata": {},
   "source": [
    "- It is used to cap the values of an array within a range.\n",
    "- np.clip(arr,lower_limit,upper_limit)"
   ]
  },
  {
   "cell_type": "code",
   "execution_count": 134,
   "id": "f282056c",
   "metadata": {},
   "outputs": [
    {
     "data": {
      "text/plain": [
       "array([[85, 40, 13, 42],\n",
       "       [71, 95, 45, 78],\n",
       "       [25, 75, 24, 63]])"
      ]
     },
     "execution_count": 134,
     "metadata": {},
     "output_type": "execute_result"
    }
   ],
   "source": [
    "np.random.seed(45)\n",
    "arr=np.random.randint(10,100,12).reshape(3,4)\n",
    "arr"
   ]
  },
  {
   "cell_type": "code",
   "execution_count": 135,
   "id": "e81d2027",
   "metadata": {},
   "outputs": [
    {
     "data": {
      "text/plain": [
       "array([[70, 40, 30, 42],\n",
       "       [70, 70, 45, 70],\n",
       "       [30, 70, 30, 63]])"
      ]
     },
     "execution_count": 135,
     "metadata": {},
     "output_type": "execute_result"
    }
   ],
   "source": [
    "np.clip(arr,30,70)"
   ]
  },
  {
   "cell_type": "markdown",
   "id": "8162fe4a",
   "metadata": {},
   "source": [
    "## 17. diagonal()"
   ]
  },
  {
   "cell_type": "code",
   "execution_count": 136,
   "id": "e6f23558",
   "metadata": {},
   "outputs": [
    {
     "data": {
      "text/plain": [
       "array([[85, 40, 13, 42, 71],\n",
       "       [95, 45, 78, 25, 75],\n",
       "       [24, 63, 67, 82, 97],\n",
       "       [56, 18, 63, 22, 44],\n",
       "       [34, 22, 27, 78, 40]])"
      ]
     },
     "execution_count": 136,
     "metadata": {},
     "output_type": "execute_result"
    }
   ],
   "source": [
    "np.random.seed(45)\n",
    "arr=np.random.randint(10,100,25).reshape(5,5)\n",
    "arr"
   ]
  },
  {
   "cell_type": "code",
   "execution_count": 137,
   "id": "a4bff2ad",
   "metadata": {},
   "outputs": [
    {
     "data": {
      "text/plain": [
       "array([85, 45, 67, 22, 40])"
      ]
     },
     "execution_count": 137,
     "metadata": {},
     "output_type": "execute_result"
    }
   ],
   "source": [
    "np.diagonal(arr)"
   ]
  },
  {
   "cell_type": "code",
   "execution_count": 138,
   "id": "8a18d3c5",
   "metadata": {},
   "outputs": [
    {
     "data": {
      "text/plain": [
       "array([85, 45, 67, 22, 40])"
      ]
     },
     "execution_count": 138,
     "metadata": {},
     "output_type": "execute_result"
    }
   ],
   "source": [
    "np.diagonal(arr,offset=0)"
   ]
  },
  {
   "cell_type": "code",
   "execution_count": 139,
   "id": "80636b1c",
   "metadata": {},
   "outputs": [
    {
     "data": {
      "text/plain": [
       "array([40, 78, 82, 44])"
      ]
     },
     "execution_count": 139,
     "metadata": {},
     "output_type": "execute_result"
    }
   ],
   "source": [
    "np.diagonal(arr,offset=1)"
   ]
  },
  {
   "cell_type": "code",
   "execution_count": 140,
   "id": "a2490c2b",
   "metadata": {},
   "outputs": [
    {
     "data": {
      "text/plain": [
       "array([13, 25, 97])"
      ]
     },
     "execution_count": 140,
     "metadata": {},
     "output_type": "execute_result"
    }
   ],
   "source": [
    "np.diagonal(arr,offset=2)"
   ]
  },
  {
   "cell_type": "code",
   "execution_count": 141,
   "id": "c1e86467",
   "metadata": {},
   "outputs": [
    {
     "data": {
      "text/plain": [
       "array([42, 75])"
      ]
     },
     "execution_count": 141,
     "metadata": {},
     "output_type": "execute_result"
    }
   ],
   "source": [
    "np.diagonal(arr,offset=3)"
   ]
  },
  {
   "cell_type": "code",
   "execution_count": 142,
   "id": "90d6646e",
   "metadata": {},
   "outputs": [
    {
     "data": {
      "text/plain": [
       "array([71])"
      ]
     },
     "execution_count": 142,
     "metadata": {},
     "output_type": "execute_result"
    }
   ],
   "source": [
    "np.diagonal(arr,offset=4)"
   ]
  },
  {
   "cell_type": "code",
   "execution_count": 143,
   "id": "d49269ea",
   "metadata": {},
   "outputs": [
    {
     "data": {
      "text/plain": [
       "array([], dtype=int32)"
      ]
     },
     "execution_count": 143,
     "metadata": {},
     "output_type": "execute_result"
    }
   ],
   "source": [
    "np.diagonal(arr,offset=5)"
   ]
  },
  {
   "cell_type": "code",
   "execution_count": 144,
   "id": "9f8fd46d",
   "metadata": {},
   "outputs": [
    {
     "data": {
      "text/plain": [
       "array([95, 63, 63, 78])"
      ]
     },
     "execution_count": 144,
     "metadata": {},
     "output_type": "execute_result"
    }
   ],
   "source": [
    "np.diagonal(arr,offset=-1)"
   ]
  },
  {
   "cell_type": "code",
   "execution_count": 145,
   "id": "6a8bbc02",
   "metadata": {},
   "outputs": [
    {
     "data": {
      "text/plain": [
       "array([24, 18, 27])"
      ]
     },
     "execution_count": 145,
     "metadata": {},
     "output_type": "execute_result"
    }
   ],
   "source": [
    "np.diagonal(arr,offset=-2)"
   ]
  },
  {
   "cell_type": "code",
   "execution_count": 146,
   "id": "8408388e",
   "metadata": {},
   "outputs": [
    {
     "data": {
      "text/plain": [
       "array([56, 22])"
      ]
     },
     "execution_count": 146,
     "metadata": {},
     "output_type": "execute_result"
    }
   ],
   "source": [
    "np.diagonal(arr,offset=-3)"
   ]
  },
  {
   "cell_type": "code",
   "execution_count": 147,
   "id": "a16f3379",
   "metadata": {},
   "outputs": [
    {
     "data": {
      "text/plain": [
       "array([34])"
      ]
     },
     "execution_count": 147,
     "metadata": {},
     "output_type": "execute_result"
    }
   ],
   "source": [
    "np.diagonal(arr,offset=-4)"
   ]
  },
  {
   "cell_type": "code",
   "execution_count": 148,
   "id": "a3625c5a",
   "metadata": {},
   "outputs": [
    {
     "data": {
      "text/plain": [
       "array([], dtype=int32)"
      ]
     },
     "execution_count": 148,
     "metadata": {},
     "output_type": "execute_result"
    }
   ],
   "source": [
    "np.diagonal(arr,offset=-5)"
   ]
  },
  {
   "cell_type": "markdown",
   "id": "68135f26",
   "metadata": {},
   "source": [
    "## 18. diag()"
   ]
  },
  {
   "cell_type": "markdown",
   "id": "dbc50b97",
   "metadata": {},
   "source": [
    "- It creates a diagonal matrix.\n",
    "- In a diagonal matrix all the elements except the diagonal elements are 0."
   ]
  },
  {
   "cell_type": "code",
   "execution_count": 149,
   "id": "81c7ce5b",
   "metadata": {},
   "outputs": [
    {
     "data": {
      "text/plain": [
       "array([[10,  0,  0,  0],\n",
       "       [ 0, 20,  0,  0],\n",
       "       [ 0,  0, 30,  0],\n",
       "       [ 0,  0,  0, 40]])"
      ]
     },
     "execution_count": 149,
     "metadata": {},
     "output_type": "execute_result"
    }
   ],
   "source": [
    "np.diag([10,20,30,40])"
   ]
  },
  {
   "cell_type": "markdown",
   "id": "37222a7d",
   "metadata": {},
   "source": [
    "## 19. trace()"
   ]
  },
  {
   "cell_type": "markdown",
   "id": "9c7ed045",
   "metadata": {},
   "source": [
    "- It returns the sum of the diagonal elements of an array."
   ]
  },
  {
   "cell_type": "code",
   "execution_count": 150,
   "id": "ad61a757",
   "metadata": {},
   "outputs": [
    {
     "data": {
      "text/plain": [
       "array([[85, 40, 13],\n",
       "       [42, 71, 95],\n",
       "       [45, 78, 25]])"
      ]
     },
     "execution_count": 150,
     "metadata": {},
     "output_type": "execute_result"
    }
   ],
   "source": [
    "np.random.seed(45)\n",
    "arr=np.random.randint(10,100,9).reshape(3,3)\n",
    "arr"
   ]
  },
  {
   "cell_type": "code",
   "execution_count": 151,
   "id": "8ccbe88b",
   "metadata": {},
   "outputs": [
    {
     "data": {
      "text/plain": [
       "181"
      ]
     },
     "execution_count": 151,
     "metadata": {},
     "output_type": "execute_result"
    }
   ],
   "source": [
    "np.trace(arr)"
   ]
  },
  {
   "cell_type": "markdown",
   "id": "2f9ffb21",
   "metadata": {},
   "source": [
    "## 20. dot()"
   ]
  },
  {
   "cell_type": "markdown",
   "id": "f4d4b285",
   "metadata": {},
   "source": [
    "- It returns the dot product of two matrices.\n",
    "- For dot product the columns in the first array should be equal to the rows in the second array."
   ]
  },
  {
   "cell_type": "code",
   "execution_count": 152,
   "id": "d431714c",
   "metadata": {},
   "outputs": [],
   "source": [
    "x=np.array([1,2,3,4,5,6]).reshape(2,3)\n",
    "y=np.array([10,20,30]).reshape(3,1)"
   ]
  },
  {
   "cell_type": "code",
   "execution_count": 153,
   "id": "1b3f281e",
   "metadata": {},
   "outputs": [
    {
     "data": {
      "text/plain": [
       "array([[1, 2, 3],\n",
       "       [4, 5, 6]])"
      ]
     },
     "execution_count": 153,
     "metadata": {},
     "output_type": "execute_result"
    }
   ],
   "source": [
    "x"
   ]
  },
  {
   "cell_type": "code",
   "execution_count": 154,
   "id": "39a09f2e",
   "metadata": {},
   "outputs": [
    {
     "data": {
      "text/plain": [
       "array([[10],\n",
       "       [20],\n",
       "       [30]])"
      ]
     },
     "execution_count": 154,
     "metadata": {},
     "output_type": "execute_result"
    }
   ],
   "source": [
    "y"
   ]
  },
  {
   "cell_type": "code",
   "execution_count": 155,
   "id": "36d47f55",
   "metadata": {},
   "outputs": [
    {
     "data": {
      "text/plain": [
       "array([[140],\n",
       "       [320]])"
      ]
     },
     "execution_count": 155,
     "metadata": {},
     "output_type": "execute_result"
    }
   ],
   "source": [
    "np.dot(x,y)"
   ]
  },
  {
   "cell_type": "markdown",
   "id": "49610c41",
   "metadata": {},
   "source": [
    "# Arithmetic Operations"
   ]
  },
  {
   "cell_type": "markdown",
   "id": "fb6fb2db",
   "metadata": {},
   "source": [
    "- +, -, \\*, /, //, %, **"
   ]
  },
  {
   "cell_type": "code",
   "execution_count": null,
   "id": "a090681c",
   "metadata": {},
   "outputs": [
    {
     "data": {
      "text/plain": [
       "array([[10, 20, 30],\n",
       "       [40, 50, 60],\n",
       "       [70, 80, 90]])"
      ]
     },
     "execution_count": 156,
     "metadata": {},
     "output_type": "execute_result"
    }
   ],
   "source": [
    "arr=np.array([10,20,30,40,50,60,70,80,90]).reshape(3,3)\n",
    "arr"
   ]
  },
  {
   "cell_type": "code",
   "execution_count": null,
   "id": "83990434",
   "metadata": {},
   "outputs": [
    {
     "data": {
      "text/plain": [
       "array([[15, 25, 35],\n",
       "       [45, 55, 65],\n",
       "       [75, 85, 95]])"
      ]
     },
     "execution_count": 157,
     "metadata": {},
     "output_type": "execute_result"
    }
   ],
   "source": [
    "arr+5"
   ]
  },
  {
   "cell_type": "code",
   "execution_count": null,
   "id": "00e86398",
   "metadata": {},
   "outputs": [
    {
     "data": {
      "text/plain": [
       "array([[ 5, 15, 25],\n",
       "       [35, 45, 55],\n",
       "       [65, 75, 85]])"
      ]
     },
     "execution_count": 158,
     "metadata": {},
     "output_type": "execute_result"
    }
   ],
   "source": [
    "arr-5"
   ]
  },
  {
   "cell_type": "code",
   "execution_count": null,
   "id": "37bcb086",
   "metadata": {},
   "outputs": [
    {
     "data": {
      "text/plain": [
       "array([[ 50, 100, 150],\n",
       "       [200, 250, 300],\n",
       "       [350, 400, 450]])"
      ]
     },
     "execution_count": 159,
     "metadata": {},
     "output_type": "execute_result"
    }
   ],
   "source": [
    "arr*5"
   ]
  },
  {
   "cell_type": "code",
   "execution_count": null,
   "id": "8d139487",
   "metadata": {},
   "outputs": [
    {
     "data": {
      "text/plain": [
       "array([[ 2.,  4.,  6.],\n",
       "       [ 8., 10., 12.],\n",
       "       [14., 16., 18.]])"
      ]
     },
     "execution_count": 160,
     "metadata": {},
     "output_type": "execute_result"
    }
   ],
   "source": [
    "arr/5"
   ]
  },
  {
   "cell_type": "code",
   "execution_count": null,
   "id": "81d61622",
   "metadata": {},
   "outputs": [
    {
     "data": {
      "text/plain": [
       "array([[ 2,  4,  6],\n",
       "       [ 8, 10, 12],\n",
       "       [14, 16, 18]], dtype=int32)"
      ]
     },
     "execution_count": 161,
     "metadata": {},
     "output_type": "execute_result"
    }
   ],
   "source": [
    "arr//5"
   ]
  },
  {
   "cell_type": "code",
   "execution_count": null,
   "id": "a6154d37",
   "metadata": {},
   "outputs": [
    {
     "data": {
      "text/plain": [
       "array([[1, 2, 0],\n",
       "       [1, 2, 0],\n",
       "       [1, 2, 0]], dtype=int32)"
      ]
     },
     "execution_count": 162,
     "metadata": {},
     "output_type": "execute_result"
    }
   ],
   "source": [
    "arr%3"
   ]
  },
  {
   "cell_type": "code",
   "execution_count": null,
   "id": "51d4c6db",
   "metadata": {},
   "outputs": [
    {
     "data": {
      "text/plain": [
       "array([[     100000,     3200000,    24300000],\n",
       "       [  102400000,   312500000,   777600000],\n",
       "       [ 1680700000, -1018167296,  1609932704]], dtype=int32)"
      ]
     },
     "execution_count": 163,
     "metadata": {},
     "output_type": "execute_result"
    }
   ],
   "source": [
    "arr**5"
   ]
  },
  {
   "cell_type": "markdown",
   "id": "154deb65",
   "metadata": {},
   "source": [
    "# How to change datatype of the elements of an array"
   ]
  },
  {
   "cell_type": "code",
   "execution_count": null,
   "id": "b072bc50",
   "metadata": {},
   "outputs": [],
   "source": [
    "arr=np.random.rand(9).reshape(3,3)*1000"
   ]
  },
  {
   "cell_type": "code",
   "execution_count": null,
   "id": "78cb73b4",
   "metadata": {},
   "outputs": [
    {
     "data": {
      "text/plain": [
       "array([[719.67710676, 365.36724207,  57.23759254],\n",
       "       [218.68496281, 316.89030416, 925.67060136],\n",
       "       [608.52416955, 813.85571225, 819.3441576 ]])"
      ]
     },
     "execution_count": 165,
     "metadata": {},
     "output_type": "execute_result"
    }
   ],
   "source": [
    "arr"
   ]
  },
  {
   "cell_type": "code",
   "execution_count": null,
   "id": "e1ef79f5",
   "metadata": {},
   "outputs": [
    {
     "data": {
      "text/plain": [
       "dtype('float64')"
      ]
     },
     "execution_count": 166,
     "metadata": {},
     "output_type": "execute_result"
    }
   ],
   "source": [
    "arr.dtype"
   ]
  },
  {
   "cell_type": "code",
   "execution_count": null,
   "id": "21a96380",
   "metadata": {},
   "outputs": [
    {
     "data": {
      "text/plain": [
       "array([[719, 365,  57],\n",
       "       [218, 316, 925],\n",
       "       [608, 813, 819]])"
      ]
     },
     "execution_count": 167,
     "metadata": {},
     "output_type": "execute_result"
    }
   ],
   "source": [
    "#  It converts the type of the array according to the given datatype and returns a new array.\n",
    "arr.astype(int)"
   ]
  },
  {
   "cell_type": "markdown",
   "id": "63ebf283",
   "metadata": {},
   "source": [
    "# Null values in Numpy"
   ]
  },
  {
   "cell_type": "markdown",
   "id": "886b1fb4",
   "metadata": {},
   "source": [
    "- In Numpy the null values or missing values are represented by np.nan\n",
    "- np.nan is a float type"
   ]
  },
  {
   "cell_type": "code",
   "execution_count": null,
   "id": "229b8a60",
   "metadata": {},
   "outputs": [
    {
     "data": {
      "text/plain": [
       "array([10, 20, 30, 40, None, 60], dtype=object)"
      ]
     },
     "execution_count": 168,
     "metadata": {},
     "output_type": "execute_result"
    }
   ],
   "source": [
    "np.array([10,20,30,40,None,60])"
   ]
  },
  {
   "cell_type": "code",
   "execution_count": null,
   "id": "6ce573ab",
   "metadata": {},
   "outputs": [
    {
     "data": {
      "text/plain": [
       "array([10., 20., 30., 40., nan, 60.])"
      ]
     },
     "execution_count": 169,
     "metadata": {},
     "output_type": "execute_result"
    }
   ],
   "source": [
    "arr=np.array([10,20,30,40,np.nan,60])\n",
    "arr"
   ]
  },
  {
   "cell_type": "code",
   "execution_count": null,
   "id": "a5efa39b",
   "metadata": {},
   "outputs": [
    {
     "data": {
      "text/plain": [
       "NoneType"
      ]
     },
     "execution_count": 170,
     "metadata": {},
     "output_type": "execute_result"
    }
   ],
   "source": [
    "type(None)"
   ]
  },
  {
   "cell_type": "markdown",
   "id": "c95549e8",
   "metadata": {},
   "source": [
    "## np. isnan()"
   ]
  },
  {
   "cell_type": "markdown",
   "id": "735aee44",
   "metadata": {},
   "source": [
    "- It returns the array of boolean values.\n",
    "- True means nan else False"
   ]
  },
  {
   "cell_type": "code",
   "execution_count": null,
   "id": "721ee253",
   "metadata": {},
   "outputs": [
    {
     "data": {
      "text/plain": [
       "array([[10., nan, 20.],\n",
       "       [30., 40., nan],\n",
       "       [nan, 50., 60.]])"
      ]
     },
     "execution_count": 171,
     "metadata": {},
     "output_type": "execute_result"
    }
   ],
   "source": [
    "arr=np.array([10,np.nan,20,30,40,np.nan,np.nan,50,60]).reshape(3,3)\n",
    "arr"
   ]
  },
  {
   "cell_type": "code",
   "execution_count": null,
   "id": "39fb01f0",
   "metadata": {},
   "outputs": [
    {
     "data": {
      "text/plain": [
       "array([[False,  True, False],\n",
       "       [False, False,  True],\n",
       "       [ True, False, False]])"
      ]
     },
     "execution_count": 172,
     "metadata": {},
     "output_type": "execute_result"
    }
   ],
   "source": [
    "np.isnan(arr)"
   ]
  },
  {
   "cell_type": "code",
   "execution_count": null,
   "id": "e21f9578",
   "metadata": {},
   "outputs": [
    {
     "data": {
      "text/plain": [
       "3"
      ]
     },
     "execution_count": 173,
     "metadata": {},
     "output_type": "execute_result"
    }
   ],
   "source": [
    "np.isnan(arr).sum()"
   ]
  },
  {
   "cell_type": "markdown",
   "id": "4d2bc753",
   "metadata": {},
   "source": [
    "## Get the indexes of all the null values"
   ]
  },
  {
   "cell_type": "code",
   "execution_count": null,
   "id": "181d0d7b",
   "metadata": {},
   "outputs": [
    {
     "data": {
      "text/plain": [
       "array([[10., nan, 20.],\n",
       "       [30., 40., nan],\n",
       "       [nan, 50., 60.]])"
      ]
     },
     "execution_count": 174,
     "metadata": {},
     "output_type": "execute_result"
    }
   ],
   "source": [
    "arr"
   ]
  },
  {
   "cell_type": "code",
   "execution_count": null,
   "id": "3e93a33c",
   "metadata": {},
   "outputs": [
    {
     "data": {
      "text/plain": [
       "(array([0, 1, 2], dtype=int64), array([1, 2, 0], dtype=int64))"
      ]
     },
     "execution_count": 175,
     "metadata": {},
     "output_type": "execute_result"
    }
   ],
   "source": [
    "np.where(np.isnan(arr))"
   ]
  },
  {
   "cell_type": "markdown",
   "id": "53019efd",
   "metadata": {},
   "source": [
    "## Replacing the null values"
   ]
  },
  {
   "cell_type": "code",
   "execution_count": 176,
   "id": "ef5ce67d",
   "metadata": {},
   "outputs": [
    {
     "data": {
      "text/plain": [
       "array([[10., nan, 20.],\n",
       "       [30., 40., nan],\n",
       "       [nan, 50., 60.]])"
      ]
     },
     "execution_count": 176,
     "metadata": {},
     "output_type": "execute_result"
    }
   ],
   "source": [
    "arr"
   ]
  },
  {
   "cell_type": "code",
   "execution_count": 177,
   "id": "e411df3a",
   "metadata": {},
   "outputs": [
    {
     "data": {
      "text/plain": [
       "array([[False,  True, False],\n",
       "       [False, False,  True],\n",
       "       [ True, False, False]])"
      ]
     },
     "execution_count": 177,
     "metadata": {},
     "output_type": "execute_result"
    }
   ],
   "source": [
    "np.isnan(arr)"
   ]
  },
  {
   "cell_type": "markdown",
   "id": "76c98f9d",
   "metadata": {},
   "source": [
    "# Array is mutable"
   ]
  },
  {
   "cell_type": "markdown",
   "id": "0ef8d82c",
   "metadata": {},
   "source": [
    "- arr=np.random.randint(10,50,9).reshape(3,3)"
   ]
  },
  {
   "cell_type": "code",
   "execution_count": 178,
   "id": "cdf5836c",
   "metadata": {},
   "outputs": [
    {
     "data": {
      "text/plain": [
       "array([[40, 24, 46],\n",
       "       [41, 32, 46],\n",
       "       [25, 27, 16]])"
      ]
     },
     "execution_count": 178,
     "metadata": {},
     "output_type": "execute_result"
    }
   ],
   "source": [
    "arr=np.random.randint(10,50,9).reshape(3,3)\n",
    "arr"
   ]
  },
  {
   "cell_type": "code",
   "execution_count": 179,
   "id": "4afdff93",
   "metadata": {},
   "outputs": [
    {
     "data": {
      "text/plain": [
       "array([[40, 24, 46],\n",
       "       [41,  0, 46],\n",
       "       [25, 27, 16]])"
      ]
     },
     "execution_count": 179,
     "metadata": {},
     "output_type": "execute_result"
    }
   ],
   "source": [
    "# Convert 27 to 0\n",
    "\n",
    "arr[1,1]=0\n",
    "arr"
   ]
  },
  {
   "cell_type": "code",
   "execution_count": 180,
   "id": "8d434619",
   "metadata": {},
   "outputs": [
    {
     "data": {
      "text/plain": [
       "array([[40, 24, 46],\n",
       "       [41,  0, 46],\n",
       "       [29, 27, 16]])"
      ]
     },
     "execution_count": 180,
     "metadata": {},
     "output_type": "execute_result"
    }
   ],
   "source": [
    "# Replace 25 by the mean of the array\n",
    "\n",
    "# round(arr.mean())\n",
    "\n",
    "arr[2,0]=round(arr.mean())\n",
    "arr"
   ]
  },
  {
   "cell_type": "markdown",
   "id": "265fd6ba",
   "metadata": {},
   "source": [
    "# Array Broadcasting"
   ]
  },
  {
   "cell_type": "markdown",
   "id": "2b6476fd",
   "metadata": {},
   "source": [
    "- When we have two arrays of different shapes then numpy matches their shape by creating dummy rows or columns so that elment by element operation is possible.\n",
    "- For array broadcasting either number of rows or number of columns should be equal in both the arrays."
   ]
  },
  {
   "cell_type": "code",
   "execution_count": 181,
   "id": "5b4482d9",
   "metadata": {},
   "outputs": [
    {
     "data": {
      "text/plain": [
       "array([[10, 20, 30],\n",
       "       [40, 50, 60]])"
      ]
     },
     "execution_count": 181,
     "metadata": {},
     "output_type": "execute_result"
    }
   ],
   "source": [
    "x=np.array([10,20,30,40,50,60]).reshape(2,3)\n",
    "x"
   ]
  },
  {
   "cell_type": "code",
   "execution_count": 182,
   "id": "56bcc6fe",
   "metadata": {},
   "outputs": [
    {
     "data": {
      "text/plain": [
       "array([[15, 25, 35],\n",
       "       [45, 55, 65]])"
      ]
     },
     "execution_count": 182,
     "metadata": {},
     "output_type": "execute_result"
    }
   ],
   "source": [
    "x+5"
   ]
  },
  {
   "cell_type": "code",
   "execution_count": 183,
   "id": "84e7da0b",
   "metadata": {},
   "outputs": [
    {
     "data": {
      "text/plain": [
       "array([[10, 20, 30],\n",
       "       [40, 50, 60]])"
      ]
     },
     "execution_count": 183,
     "metadata": {},
     "output_type": "execute_result"
    }
   ],
   "source": [
    "x"
   ]
  },
  {
   "cell_type": "code",
   "execution_count": 184,
   "id": "e46506ba",
   "metadata": {},
   "outputs": [
    {
     "data": {
      "text/plain": [
       "array([[2, 4, 6]])"
      ]
     },
     "execution_count": 184,
     "metadata": {},
     "output_type": "execute_result"
    }
   ],
   "source": [
    "y=np.array([2,4,6]).reshape(1,3)\n",
    "y"
   ]
  },
  {
   "cell_type": "code",
   "execution_count": 185,
   "id": "c133a3af",
   "metadata": {},
   "outputs": [
    {
     "data": {
      "text/plain": [
       "array([[12, 24, 36],\n",
       "       [42, 54, 66]])"
      ]
     },
     "execution_count": 185,
     "metadata": {},
     "output_type": "execute_result"
    }
   ],
   "source": [
    "x+y"
   ]
  },
  {
   "cell_type": "markdown",
   "id": "e9d0d790",
   "metadata": {},
   "source": [
    "# Iterating over an array"
   ]
  },
  {
   "cell_type": "code",
   "execution_count": 186,
   "id": "96daecd6",
   "metadata": {},
   "outputs": [
    {
     "data": {
      "text/plain": [
       "array([[ 2,  4,  6],\n",
       "       [ 8, 10, 12],\n",
       "       [14, 16, 18]])"
      ]
     },
     "execution_count": 186,
     "metadata": {},
     "output_type": "execute_result"
    }
   ],
   "source": [
    "y=np.array([2,4,6,8,10,12,14,16,18]).reshape(3,3)\n",
    "y"
   ]
  },
  {
   "cell_type": "code",
   "execution_count": 187,
   "id": "6e454e1c",
   "metadata": {},
   "outputs": [
    {
     "name": "stdout",
     "output_type": "stream",
     "text": [
      "2\n",
      "4\n",
      "6\n",
      "8\n",
      "10\n",
      "12\n",
      "14\n",
      "16\n",
      "18\n"
     ]
    }
   ],
   "source": [
    "for i in np.nditer(y,order='c'):\n",
    "    print(i)"
   ]
  },
  {
   "cell_type": "code",
   "execution_count": 188,
   "id": "25cad2a5",
   "metadata": {},
   "outputs": [
    {
     "name": "stdout",
     "output_type": "stream",
     "text": [
      "2\n",
      "8\n",
      "14\n",
      "4\n",
      "10\n",
      "16\n",
      "6\n",
      "12\n",
      "18\n"
     ]
    }
   ],
   "source": [
    "for i in np.nditer(y,order='f'):\n",
    "    print(i)"
   ]
  },
  {
   "cell_type": "markdown",
   "id": "d9dc4bba",
   "metadata": {},
   "source": [
    "# Sorting"
   ]
  },
  {
   "cell_type": "code",
   "execution_count": 189,
   "id": "7bdb9352",
   "metadata": {},
   "outputs": [
    {
     "data": {
      "text/plain": [
       "array([1, 2, 3, 4, 5, 6, 7, 8, 9])"
      ]
     },
     "execution_count": 189,
     "metadata": {},
     "output_type": "execute_result"
    }
   ],
   "source": [
    "a = np.array([1,4,2,5,3,6,8,7,9])\n",
    "np.sort(a, kind='quicksort')"
   ]
  },
  {
   "cell_type": "code",
   "execution_count": 190,
   "id": "17dd955c",
   "metadata": {},
   "outputs": [
    {
     "name": "stdout",
     "output_type": "stream",
     "text": [
      "Sort along column : \n",
      " [[4 5 6 7]\n",
      " [2 3 7 9]]\n",
      "Sort along row : \n",
      " [[5 2 3 4]\n",
      " [9 6 7 7]]\n"
     ]
    }
   ],
   "source": [
    "a = np.array([[5,6,7,4],\n",
    "              [9,2,3,7]])# sort along the column\n",
    "print('Sort along column :','\\n',np.sort(a, kind='mergesort',axis=1))\n",
    "# sort along the row\n",
    "print('Sort along row :','\\n',np.sort(a, kind='mergesort',axis=0))"
   ]
  },
  {
   "cell_type": "markdown",
   "id": "b4fbe8ba",
   "metadata": {},
   "source": [
    "# squeeze()"
   ]
  },
  {
   "cell_type": "markdown",
   "id": "98670369",
   "metadata": {},
   "source": [
    "- numpy.squeeze() function is used when we want to remove single-dimensional entries from the shape of an array."
   ]
  },
  {
   "cell_type": "code",
   "execution_count": 193,
   "id": "2e039947",
   "metadata": {},
   "outputs": [
    {
     "name": "stdout",
     "output_type": "stream",
     "text": [
      "[[[2 2 2]\n",
      "  [2 2 2]]]\n",
      "[[2 2 2]\n",
      " [2 2 2]]\n"
     ]
    }
   ],
   "source": [
    "in_arr = np.array([[[2, 2, 2], [2, 2, 2]]])\n",
    "print(in_arr)\n",
    "out_arr = np.squeeze(in_arr)\n",
    "print(out_arr)"
   ]
  },
  {
   "cell_type": "markdown",
   "id": "26938809",
   "metadata": {},
   "source": [
    "# Numpy String Operations"
   ]
  },
  {
   "cell_type": "code",
   "execution_count": 194,
   "id": "809bf9b5",
   "metadata": {},
   "outputs": [],
   "source": [
    "s1 = 'ABC'\n",
    "s2 = 'XYZ'"
   ]
  },
  {
   "cell_type": "code",
   "execution_count": 195,
   "id": "3cb4ce0b",
   "metadata": {},
   "outputs": [
    {
     "data": {
      "text/plain": [
       "array('ABCXYZ', dtype='<U6')"
      ]
     },
     "execution_count": 195,
     "metadata": {},
     "output_type": "execute_result"
    }
   ],
   "source": [
    "np.char.add(s1,s2)"
   ]
  },
  {
   "cell_type": "code",
   "execution_count": 196,
   "id": "dbde9cfc",
   "metadata": {},
   "outputs": [
    {
     "data": {
      "text/plain": [
       "array('ABC', dtype='<U3')"
      ]
     },
     "execution_count": 196,
     "metadata": {},
     "output_type": "execute_result"
    }
   ],
   "source": [
    "np.char.upper(s1)"
   ]
  },
  {
   "cell_type": "code",
   "execution_count": 197,
   "id": "f02c1cb0",
   "metadata": {},
   "outputs": [
    {
     "data": {
      "text/plain": [
       "array('xyz', dtype='<U3')"
      ]
     },
     "execution_count": 197,
     "metadata": {},
     "output_type": "execute_result"
    }
   ],
   "source": [
    "np.char.lower(s2)"
   ]
  },
  {
   "cell_type": "code",
   "execution_count": 198,
   "id": "8a8d3795",
   "metadata": {},
   "outputs": [
    {
     "data": {
      "text/plain": [
       "array(list(['Hello', 'myself', 'Aishwarya', 'Singh']), dtype=object)"
      ]
     },
     "execution_count": 198,
     "metadata": {},
     "output_type": "execute_result"
    }
   ],
   "source": [
    "# splits: it splits the strings by spaces\n",
    "s3 = 'Hello myself Aishwarya Singh'\n",
    "np.char.split(s3)"
   ]
  },
  {
   "cell_type": "code",
   "execution_count": 199,
   "id": "2c61f3b8",
   "metadata": {},
   "outputs": [
    {
     "data": {
      "text/plain": [
       "array(list(['Hi, I am Aishwarya Singh ', ' I am a IT professional']),\n",
       "      dtype=object)"
      ]
     },
     "execution_count": 199,
     "metadata": {},
     "output_type": "execute_result"
    }
   ],
   "source": [
    "# splitlines: it splits the strings by newlines\n",
    "s4 = 'Hi, I am Aishwarya Singh \\n I am a IT professional'\n",
    "np.char.splitlines(s4)"
   ]
  },
  {
   "cell_type": "code",
   "execution_count": 200,
   "id": "38acbc64",
   "metadata": {},
   "outputs": [
    {
     "data": {
      "text/plain": [
       "array('Hi, I am Supriya Singh \\n I am a IT professional', dtype='<U47')"
      ]
     },
     "execution_count": 200,
     "metadata": {},
     "output_type": "execute_result"
    }
   ],
   "source": [
    "# np.char.replace\n",
    "np.char.replace(s4, 'Aishwarya','Supriya')"
   ]
  },
  {
   "cell_type": "code",
   "execution_count": 201,
   "id": "c7839022",
   "metadata": {},
   "outputs": [
    {
     "name": "stdout",
     "output_type": "stream",
     "text": [
      "###################End of Numpy###################\n"
     ]
    }
   ],
   "source": [
    "# np.char.center\n",
    "print(np.char.center('End of Numpy', 50 , '#'))"
   ]
  },
  {
   "cell_type": "code",
   "execution_count": null,
   "id": "4a47bcfa",
   "metadata": {},
   "outputs": [],
   "source": []
  }
 ],
 "metadata": {
  "kernelspec": {
   "display_name": "Python 3 (ipykernel)",
   "language": "python",
   "name": "python3"
  },
  "language_info": {
   "codemirror_mode": {
    "name": "ipython",
    "version": 3
   },
   "file_extension": ".py",
   "mimetype": "text/x-python",
   "name": "python",
   "nbconvert_exporter": "python",
   "pygments_lexer": "ipython3",
   "version": "3.9.19"
  }
 },
 "nbformat": 4,
 "nbformat_minor": 5
}
