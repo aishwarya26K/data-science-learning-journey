{
 "cells": [
  {
   "cell_type": "code",
   "execution_count": 2,
   "id": "dfc92f94",
   "metadata": {},
   "outputs": [],
   "source": [
    "import numpy as np"
   ]
  },
  {
   "cell_type": "markdown",
   "id": "c791c44e",
   "metadata": {},
   "source": [
    "# 1. Get the numpy version and show numpy build configuration"
   ]
  },
  {
   "cell_type": "code",
   "execution_count": 3,
   "id": "0649f15c",
   "metadata": {},
   "outputs": [
    {
     "name": "stdout",
     "output_type": "stream",
     "text": [
      "1.26.4\n"
     ]
    }
   ],
   "source": [
    "print(np.__version__)"
   ]
  },
  {
   "cell_type": "code",
   "execution_count": 4,
   "id": "bcb2e175",
   "metadata": {
    "tags": []
   },
   "outputs": [
    {
     "name": "stdout",
     "output_type": "stream",
     "text": [
      "Build Dependencies:\n",
      "  blas:\n",
      "    detection method: pkgconfig\n",
      "    found: true\n",
      "    include directory: C:/ProgramData/Anaconda3/Library/include\n",
      "    lib directory: C:/ProgramData/Anaconda3/Library/lib\n",
      "    name: mkl-sdl\n",
      "    openblas configuration: unknown\n",
      "    pc file directory: C:\\b\\abs_c1ywpu18ar\\croot\\numpy_and_numpy_base_1708638681471\\_h_env\\Library\\lib\\pkgconfig\n",
      "    version: '2023.1'\n",
      "  lapack:\n",
      "    detection method: internal\n",
      "    found: true\n",
      "    include directory: unknown\n",
      "    lib directory: unknown\n",
      "    name: dep2252572576928\n",
      "    openblas configuration: unknown\n",
      "    pc file directory: unknown\n",
      "    version: 1.26.4\n",
      "Compilers:\n",
      "  c:\n",
      "    commands: cl.exe\n",
      "    linker: link\n",
      "    name: msvc\n",
      "    version: 19.29.30154\n",
      "  c++:\n",
      "    commands: cl.exe\n",
      "    linker: link\n",
      "    name: msvc\n",
      "    version: 19.29.30154\n",
      "  cython:\n",
      "    commands: cython\n",
      "    linker: cython\n",
      "    name: cython\n",
      "    version: 3.0.8\n",
      "Machine Information:\n",
      "  build:\n",
      "    cpu: x86_64\n",
      "    endian: little\n",
      "    family: x86_64\n",
      "    system: windows\n",
      "  host:\n",
      "    cpu: x86_64\n",
      "    endian: little\n",
      "    family: x86_64\n",
      "    system: windows\n",
      "Python Information:\n",
      "  path: C:\\b\\abs_c1ywpu18ar\\croot\\numpy_and_numpy_base_1708638681471\\_h_env\\python.exe\n",
      "  version: '3.9'\n",
      "SIMD Extensions:\n",
      "  baseline:\n",
      "  - SSE\n",
      "  - SSE2\n",
      "  - SSE3\n",
      "  found:\n",
      "  - SSSE3\n",
      "  - SSE41\n",
      "  - POPCNT\n",
      "  - SSE42\n",
      "  - AVX\n",
      "  - F16C\n",
      "  - FMA3\n",
      "  - AVX2\n",
      "  - AVX512F\n",
      "  - AVX512CD\n",
      "  - AVX512_SKX\n",
      "  - AVX512_CLX\n",
      "  - AVX512_CNL\n",
      "  - AVX512_ICL\n",
      "\n",
      "None\n"
     ]
    }
   ],
   "source": [
    "print(np.show_config())"
   ]
  },
  {
   "cell_type": "markdown",
   "id": "5636b828",
   "metadata": {},
   "source": [
    "# 2. Test whether none of the elements of a given array is zero"
   ]
  },
  {
   "cell_type": "code",
   "execution_count": 7,
   "id": "9fa8ffc9",
   "metadata": {},
   "outputs": [
    {
     "name": "stdout",
     "output_type": "stream",
     "text": [
      "True\n",
      "False\n"
     ]
    }
   ],
   "source": [
    "a = np.array([1,2,3,4])\n",
    "b = np.array([0,1,2,3])\n",
    "\n",
    "print(np.all(a))\n",
    "print(np.all(b))"
   ]
  },
  {
   "cell_type": "markdown",
   "id": "07baa2d7",
   "metadata": {},
   "source": [
    "# 3. Create array with all zeros "
   ]
  },
  {
   "cell_type": "code",
   "execution_count": 8,
   "id": "694befe0",
   "metadata": {},
   "outputs": [
    {
     "data": {
      "text/plain": [
       "array([[0, 0, 0, 0],\n",
       "       [0, 0, 0, 0],\n",
       "       [0, 0, 0, 0]])"
      ]
     },
     "execution_count": 8,
     "metadata": {},
     "output_type": "execute_result"
    }
   ],
   "source": [
    "a = np.zeros([3,4],dtype=int)\n",
    "a"
   ]
  },
  {
   "cell_type": "markdown",
   "id": "1d6d1af9",
   "metadata": {},
   "source": [
    "# 4. Create a Numpy array filled with all ones"
   ]
  },
  {
   "cell_type": "code",
   "execution_count": 9,
   "id": "4908fb31",
   "metadata": {},
   "outputs": [
    {
     "data": {
      "text/plain": [
       "array([[1, 1, 1, 1],\n",
       "       [1, 1, 1, 1],\n",
       "       [1, 1, 1, 1]])"
      ]
     },
     "execution_count": 9,
     "metadata": {},
     "output_type": "execute_result"
    }
   ],
   "source": [
    "a = np.ones([3,4],dtype=int)\n",
    "a"
   ]
  },
  {
   "cell_type": "markdown",
   "id": "c31b1265",
   "metadata": {},
   "source": [
    "# 5. Check whether a Numpy array contains a specified row"
   ]
  },
  {
   "cell_type": "code",
   "execution_count": 10,
   "id": "47f20cdf",
   "metadata": {},
   "outputs": [
    {
     "name": "stdout",
     "output_type": "stream",
     "text": [
      "True\n",
      "False\n",
      "False\n",
      "True\n"
     ]
    }
   ],
   "source": [
    "arr = np.array([[1, 2, 3, 4, 5], \n",
    "                   [6, 7, 8, 9, 10], \n",
    "                   [11, 12, 13, 14, 15], \n",
    "                   [16, 17, 18, 19, 20] \n",
    "                   ])\n",
    "\n",
    "print([1,2,3,4,5] in arr.tolist())\n",
    "print([16,17,20,19,18]   in arr.tolist())\n",
    "print([3,2,5,-4,5]  in arr.tolist())\n",
    "print([11,12,13,14,15]  in arr.tolist())"
   ]
  },
  {
   "cell_type": "markdown",
   "id": "ca0a836d",
   "metadata": {},
   "source": [
    "# 6. How to Remove rows in Numpy array that contains non-numeric values?"
   ]
  },
  {
   "cell_type": "code",
   "execution_count": 11,
   "id": "555be31d",
   "metadata": {},
   "outputs": [
    {
     "data": {
      "text/plain": [
       "array([[10.5 , 22.5 ,  3.8 ,  5.  ],\n",
       "       [23.45, 50.  , 78.7 ,  3.5 ],\n",
       "       [41.  ,   nan,   nan,  0.  ],\n",
       "       [20.  , 50.2 ,   nan,  2.5 ],\n",
       "       [18.8 , 50.6 ,  8.8 , 58.6 ]])"
      ]
     },
     "execution_count": 11,
     "metadata": {},
     "output_type": "execute_result"
    }
   ],
   "source": [
    "n_arr = np.array([[10.5, 22.5, 3.8, 5],\n",
    "                  [23.45, 50, 78.7, 3.5],\n",
    "                  [41, np.nan, np.nan, 0],\n",
    "                  [20, 50.20, np.nan, 2.5],\n",
    "                  [18.8, 50.60, 8.8, 58.6]])\n",
    "n_arr"
   ]
  },
  {
   "cell_type": "code",
   "execution_count": 14,
   "id": "b1014474",
   "metadata": {},
   "outputs": [
    {
     "data": {
      "text/plain": [
       "array([[10.5 , 22.5 ,  3.8 ,  5.  ],\n",
       "       [23.45, 50.  , 78.7 ,  3.5 ],\n",
       "       [18.8 , 50.6 ,  8.8 , 58.6 ]])"
      ]
     },
     "execution_count": 14,
     "metadata": {},
     "output_type": "execute_result"
    }
   ],
   "source": [
    "clean_arr = n_arr[~np.isnan(n_arr).any(axis=1)]\n",
    "clean_arr"
   ]
  },
  {
   "cell_type": "markdown",
   "id": "60863d53",
   "metadata": {},
   "source": [
    "# 7. Find the number of occurrences of a sequence in a NumPy array"
   ]
  },
  {
   "cell_type": "code",
   "execution_count": 16,
   "id": "19d0ea8e",
   "metadata": {},
   "outputs": [
    {
     "data": {
      "text/plain": [
       "4"
      ]
     },
     "execution_count": 16,
     "metadata": {},
     "output_type": "execute_result"
    }
   ],
   "source": [
    "arr = np.array([[2, 8, 9, 4],  \n",
    "                   [9, 4, 9, 4], \n",
    "                   [4, 5, 9, 7], \n",
    "                   [2, 9, 4, 3]]) \n",
    "\n",
    "op = repr(arr).count(\"9, 4\")\n",
    "op"
   ]
  },
  {
   "cell_type": "markdown",
   "id": "ae362d6b",
   "metadata": {},
   "source": [
    "# 8. Find the most frequent value in a NumPy array"
   ]
  },
  {
   "cell_type": "code",
   "execution_count": 17,
   "id": "f6c89cf9",
   "metadata": {},
   "outputs": [
    {
     "name": "stdout",
     "output_type": "stream",
     "text": [
      "1\n"
     ]
    }
   ],
   "source": [
    "ar = np.array([1,2,3,4,5,1,2,1,1,1])\n",
    "print(np.bincount(ar).argmax())"
   ]
  },
  {
   "cell_type": "markdown",
   "id": "ccdb7b22",
   "metadata": {},
   "source": [
    "# 9. Combining a one and a two-dimensional NumPy Array"
   ]
  },
  {
   "cell_type": "code",
   "execution_count": 18,
   "id": "f78bb7c7",
   "metadata": {},
   "outputs": [
    {
     "name": "stdout",
     "output_type": "stream",
     "text": [
      "[0 1 2 3 4]\n",
      "[[0 1 2 3 4]\n",
      " [5 6 7 8 9]]\n",
      "0 0\n",
      "1 1\n",
      "2 2\n",
      "3 3\n",
      "4 4\n",
      "0 5\n",
      "1 6\n",
      "2 7\n",
      "3 8\n",
      "4 9\n"
     ]
    }
   ],
   "source": [
    "num_1d = np.arange(5) \n",
    "print(num_1d) \n",
    "  \n",
    "num_2d = np.arange(10).reshape(2,5) \n",
    "print(num_2d)\n",
    "\n",
    "for a, b in np.nditer([num_1d, num_2d]):\n",
    "    print(a,b)"
   ]
  },
  {
   "cell_type": "markdown",
   "id": "7029f8aa",
   "metadata": {},
   "source": [
    "# 10. Test a given array element-wise for finiteness (not infinity or not a Number)"
   ]
  },
  {
   "cell_type": "code",
   "execution_count": 19,
   "id": "817a510d",
   "metadata": {},
   "outputs": [
    {
     "data": {
      "text/plain": [
       "array([ 1.,  0., nan, inf])"
      ]
     },
     "execution_count": 19,
     "metadata": {},
     "output_type": "execute_result"
    }
   ],
   "source": [
    "a = np.array([1, 0, np.nan, np.inf])\n",
    "a"
   ]
  },
  {
   "cell_type": "code",
   "execution_count": 20,
   "id": "f5b5db2a",
   "metadata": {},
   "outputs": [
    {
     "name": "stdout",
     "output_type": "stream",
     "text": [
      "[ True  True False False]\n"
     ]
    }
   ],
   "source": [
    "print(np.isfinite(a)) "
   ]
  },
  {
   "cell_type": "markdown",
   "id": "c37ac208",
   "metadata": {},
   "source": [
    "# 11. Test element-wise for positive or negative infinity."
   ]
  },
  {
   "cell_type": "code",
   "execution_count": 38,
   "id": "c3b0ee28",
   "metadata": {},
   "outputs": [
    {
     "name": "stdout",
     "output_type": "stream",
     "text": [
      "[False False  True False False False]\n",
      "[False False False  True False False]\n"
     ]
    }
   ],
   "source": [
    "a = np.array([1, -2, np.inf, -np.inf, 0, 3.5])\n",
    "print(np.isposinf(a))\n",
    "print(np.isneginf(a))"
   ]
  },
  {
   "cell_type": "markdown",
   "id": "fd55971a",
   "metadata": {},
   "source": [
    "# 12. Test element-wise for NaN of a given array"
   ]
  },
  {
   "cell_type": "code",
   "execution_count": 40,
   "id": "ba0bd003",
   "metadata": {},
   "outputs": [
    {
     "name": "stdout",
     "output_type": "stream",
     "text": [
      "[False False  True False]\n"
     ]
    }
   ],
   "source": [
    "a = np.array([1, 0, np.nan, np.inf])\n",
    "print(np.isnan(a))"
   ]
  },
  {
   "cell_type": "markdown",
   "id": "6690da97",
   "metadata": {},
   "source": [
    "# 13. Test element-wise for complex number, real number of a given array. Also test whether a given number is a scalar type or not"
   ]
  },
  {
   "cell_type": "code",
   "execution_count": 45,
   "id": "655af3e4",
   "metadata": {},
   "outputs": [
    {
     "name": "stdout",
     "output_type": "stream",
     "text": [
      "[ True False False False False  True]\n",
      "[False  True  True  True  True False]\n",
      "True\n",
      "False\n"
     ]
    }
   ],
   "source": [
    "a = np.array([1+1j, 1+0j, 4.5, 3, 2, 2j])\n",
    "\n",
    "print(np.iscomplex(a))\n",
    "print(np.isreal(a))\n",
    "print(np.isscalar(3.1))\n",
    "print(np.isscalar([3.1]))"
   ]
  },
  {
   "cell_type": "markdown",
   "id": "05f1fcfa",
   "metadata": {},
   "source": [
    "# 14. Create an element-wise comparison (greater, greater_equal, less and less_equal) of two given arrays"
   ]
  },
  {
   "cell_type": "code",
   "execution_count": 48,
   "id": "31dd82fd",
   "metadata": {},
   "outputs": [
    {
     "name": "stdout",
     "output_type": "stream",
     "text": [
      "[ True False]\n",
      "[ True  True]\n",
      "[False False]\n",
      "[False  True]\n"
     ]
    }
   ],
   "source": [
    "x = np.array([3, 5])\n",
    "y = np.array([2, 5])\n",
    "\n",
    "print(np.greater(x, y))\n",
    "print(np.greater_equal(x, y))\n",
    "print(np.less(x, y))\n",
    "print(np.less_equal(x, y))"
   ]
  },
  {
   "cell_type": "markdown",
   "id": "8c095865",
   "metadata": {},
   "source": [
    "# 15. create an array with the values 1, 7, 13, 105 and determine the size of the memory occupied by the array."
   ]
  },
  {
   "cell_type": "code",
   "execution_count": 49,
   "id": "fb918aca",
   "metadata": {},
   "outputs": [
    {
     "name": "stdout",
     "output_type": "stream",
     "text": [
      "Size of the memory occupied by the said array:\n",
      "16 bytes\n"
     ]
    }
   ],
   "source": [
    "X = np.array([1, 7, 13, 105])\n",
    "print(\"Size of the memory occupied by the said array:\")\n",
    "print(\"%d bytes\" % (X.size * X.itemsize)) "
   ]
  },
  {
   "cell_type": "markdown",
   "id": "22bd9e59",
   "metadata": {},
   "source": [
    "# 16. create an array of 10 zeros, 10 ones, and 10 fives. "
   ]
  },
  {
   "cell_type": "code",
   "execution_count": 1,
   "id": "37fe4c3c",
   "metadata": {},
   "outputs": [
    {
     "ename": "NameError",
     "evalue": "name 'np' is not defined",
     "output_type": "error",
     "traceback": [
      "\u001b[1;31m---------------------------------------------------------------------------\u001b[0m",
      "\u001b[1;31mNameError\u001b[0m                                 Traceback (most recent call last)",
      "Cell \u001b[1;32mIn[1], line 1\u001b[0m\n\u001b[1;32m----> 1\u001b[0m x \u001b[38;5;241m=\u001b[39m \u001b[43mnp\u001b[49m\u001b[38;5;241m.\u001b[39mzeros(\u001b[38;5;241m10\u001b[39m, dtype\u001b[38;5;241m=\u001b[39m\u001b[38;5;124m\"\u001b[39m\u001b[38;5;124mint\u001b[39m\u001b[38;5;124m\"\u001b[39m)\n\u001b[0;32m      2\u001b[0m y \u001b[38;5;241m=\u001b[39m np\u001b[38;5;241m.\u001b[39mones(\u001b[38;5;241m10\u001b[39m, dtype\u001b[38;5;241m=\u001b[39m\u001b[38;5;124m\"\u001b[39m\u001b[38;5;124mint\u001b[39m\u001b[38;5;124m\"\u001b[39m)\n\u001b[0;32m      3\u001b[0m z \u001b[38;5;241m=\u001b[39m y\u001b[38;5;241m*\u001b[39m\u001b[38;5;241m5\u001b[39m\n",
      "\u001b[1;31mNameError\u001b[0m: name 'np' is not defined"
     ]
    }
   ],
   "source": [
    "x = np.zeros(10, dtype=\"int\")\n",
    "y = np.ones(10, dtype=\"int\")\n",
    "z = y*5\n",
    "\n",
    "print(x)\n",
    "print(y)\n",
    "print(z)"
   ]
  },
  {
   "cell_type": "markdown",
   "id": "e17279bd",
   "metadata": {},
   "source": [
    "# 17. Create a 3X4 array using and iterate over it"
   ]
  },
  {
   "cell_type": "code",
   "execution_count": 53,
   "id": "86a60cc6",
   "metadata": {},
   "outputs": [
    {
     "name": "stdout",
     "output_type": "stream",
     "text": [
      "10,11,12,13,14,15,16,17,18,19,20,21,"
     ]
    }
   ],
   "source": [
    "a = np.arange(10,22).reshape(3,4)\n",
    "\n",
    "for x in np.nditer(a):\n",
    "    print(x, end=\",\")"
   ]
  },
  {
   "cell_type": "markdown",
   "id": "68b42743",
   "metadata": {},
   "source": [
    "# 18. Create a 3x3 identity matrix, i.e. diagonal elements are 1,the rest are 0"
   ]
  },
  {
   "cell_type": "code",
   "execution_count": 61,
   "id": "afd87951",
   "metadata": {},
   "outputs": [
    {
     "data": {
      "text/plain": [
       "array([[1., 0., 0.],\n",
       "       [0., 1., 0.],\n",
       "       [0., 0., 1.]])"
      ]
     },
     "execution_count": 61,
     "metadata": {},
     "output_type": "execute_result"
    }
   ],
   "source": [
    "np.eye(3)"
   ]
  },
  {
   "cell_type": "markdown",
   "id": "02496ce4",
   "metadata": {},
   "source": [
    "# 19. Create a 10x10 matrix, in which the elements on the borders will be equal to 1, and inside 0"
   ]
  },
  {
   "cell_type": "code",
   "execution_count": 64,
   "id": "73640727",
   "metadata": {},
   "outputs": [
    {
     "data": {
      "text/plain": [
       "array([[1., 1., 1., 1., 1., 1., 1., 1., 1., 1.],\n",
       "       [1., 0., 0., 0., 0., 0., 0., 0., 0., 1.],\n",
       "       [1., 0., 0., 0., 0., 0., 0., 0., 0., 1.],\n",
       "       [1., 0., 0., 0., 0., 0., 0., 0., 0., 1.],\n",
       "       [1., 0., 0., 0., 0., 0., 0., 0., 0., 1.],\n",
       "       [1., 0., 0., 0., 0., 0., 0., 0., 0., 1.],\n",
       "       [1., 0., 0., 0., 0., 0., 0., 0., 0., 1.],\n",
       "       [1., 0., 0., 0., 0., 0., 0., 0., 0., 1.],\n",
       "       [1., 0., 0., 0., 0., 0., 0., 0., 0., 1.],\n",
       "       [1., 1., 1., 1., 1., 1., 1., 1., 1., 1.]])"
      ]
     },
     "execution_count": 64,
     "metadata": {},
     "output_type": "execute_result"
    }
   ],
   "source": [
    "x = np.ones((10, 10))\n",
    "x[1:-1,1:-1]=0\n",
    "x"
   ]
  },
  {
   "cell_type": "markdown",
   "id": "02b644e7",
   "metadata": {},
   "source": [
    "# 20. Create a 5x5 zero matrix with elements on the main diagonal equal to 1, 2, 3, 4, 5"
   ]
  },
  {
   "cell_type": "code",
   "execution_count": 65,
   "id": "8ea1070e",
   "metadata": {},
   "outputs": [
    {
     "data": {
      "text/plain": [
       "array([[1, 0, 0, 0, 0],\n",
       "       [0, 2, 0, 0, 0],\n",
       "       [0, 0, 3, 0, 0],\n",
       "       [0, 0, 0, 4, 0],\n",
       "       [0, 0, 0, 0, 5]])"
      ]
     },
     "execution_count": 65,
     "metadata": {},
     "output_type": "execute_result"
    }
   ],
   "source": [
    "np.diag([1,2,3,4,5])"
   ]
  },
  {
   "cell_type": "markdown",
   "id": "5874a883",
   "metadata": {},
   "source": [
    "# 21. Create a 4x4 matrix in which 0 and 1 are staggered, with zeros on the main diagonal"
   ]
  },
  {
   "cell_type": "code",
   "execution_count": 69,
   "id": "a692519a",
   "metadata": {},
   "outputs": [
    {
     "data": {
      "text/plain": [
       "array([[0., 1., 0., 1.],\n",
       "       [1., 0., 1., 0.],\n",
       "       [0., 1., 0., 1.],\n",
       "       [1., 0., 1., 0.]])"
      ]
     },
     "execution_count": 69,
     "metadata": {},
     "output_type": "execute_result"
    }
   ],
   "source": [
    "x = np.zeros((4, 4))\n",
    "\n",
    "x[::2, 1::2] = 1\n",
    "x[1::2,::2]=1\n",
    "x"
   ]
  },
  {
   "cell_type": "markdown",
   "id": "dca389d1",
   "metadata": {},
   "source": [
    "# 22. Create a 3x3x3 array filled with arbitrary values"
   ]
  },
  {
   "cell_type": "code",
   "execution_count": 71,
   "id": "6d761c49",
   "metadata": {},
   "outputs": [
    {
     "data": {
      "text/plain": [
       "array([[[0.24977524, 0.97402511, 0.85423427],\n",
       "        [0.78542046, 0.24645405, 0.10399454],\n",
       "        [0.20476848, 0.30826926, 0.17947582]],\n",
       "\n",
       "       [[0.40041915, 0.2385701 , 0.9261291 ],\n",
       "        [0.73232886, 0.83764063, 0.45863856],\n",
       "        [0.08318278, 0.09903505, 0.88332356]],\n",
       "\n",
       "       [[0.79693757, 0.38369762, 0.71318365],\n",
       "        [0.43538957, 0.26012903, 0.14896073],\n",
       "        [0.51663048, 0.4397267 , 0.12569563]]])"
      ]
     },
     "execution_count": 71,
     "metadata": {},
     "output_type": "execute_result"
    }
   ],
   "source": [
    "np.random.random((3,3,3))"
   ]
  },
  {
   "cell_type": "markdown",
   "id": "0172a2da",
   "metadata": {},
   "source": [
    "# 23. Compute sum of all elements, sum of each column and sum of each row of a given array"
   ]
  },
  {
   "cell_type": "code",
   "execution_count": 72,
   "id": "b941f242",
   "metadata": {},
   "outputs": [
    {
     "name": "stdout",
     "output_type": "stream",
     "text": [
      "13\n",
      "[2 4 7]\n",
      "[4 9]\n"
     ]
    }
   ],
   "source": [
    "x = np.array([[0, 1, 3], [2, 3, 4]])\n",
    "print(np.sum(x))\n",
    "print(np.sum(x, axis=0))\n",
    "print(np.sum(x, axis=1))"
   ]
  },
  {
   "cell_type": "markdown",
   "id": "2ab77fee",
   "metadata": {},
   "source": [
    "# 24. Compute the inner product of two given vectors"
   ]
  },
  {
   "cell_type": "code",
   "execution_count": 73,
   "id": "16894dce",
   "metadata": {},
   "outputs": [
    {
     "name": "stdout",
     "output_type": "stream",
     "text": [
      "78\n"
     ]
    }
   ],
   "source": [
    "x = np.array([4,5])\n",
    "y = np.array([7,10])\n",
    "print(np.dot(x, y))"
   ]
  },
  {
   "cell_type": "markdown",
   "id": "79b7c635",
   "metadata": {},
   "source": [
    "# 25. Add a vector to each row of a given matrix"
   ]
  },
  {
   "cell_type": "code",
   "execution_count": 87,
   "id": "389882df",
   "metadata": {},
   "outputs": [],
   "source": [
    "m = np.array([[1, 2, 3], [4, 5, 6], [7, 8, 9], [10, 11, 12]])\n",
    "\n",
    "# vector\n",
    "v = np.array([1,1,0])\n",
    "\n",
    "result = np.empty_like(m)\n",
    "\n",
    "for i in range(4):\n",
    "    result[i, :] = m[i, :] + v"
   ]
  },
  {
   "cell_type": "code",
   "execution_count": 89,
   "id": "f1d3d37c",
   "metadata": {},
   "outputs": [
    {
     "data": {
      "text/plain": [
       "array([[ 1,  2,  3],\n",
       "       [ 4,  5,  6],\n",
       "       [ 7,  8,  9],\n",
       "       [10, 11, 12]])"
      ]
     },
     "execution_count": 89,
     "metadata": {},
     "output_type": "execute_result"
    }
   ],
   "source": [
    "m"
   ]
  },
  {
   "cell_type": "code",
   "execution_count": 88,
   "id": "ded93e72",
   "metadata": {},
   "outputs": [
    {
     "data": {
      "text/plain": [
       "array([[ 2,  3,  3],\n",
       "       [ 5,  6,  6],\n",
       "       [ 8,  9,  9],\n",
       "       [11, 12, 12]])"
      ]
     },
     "execution_count": 88,
     "metadata": {},
     "output_type": "execute_result"
    }
   ],
   "source": [
    "result"
   ]
  },
  {
   "cell_type": "code",
   "execution_count": null,
   "id": "4213b85a",
   "metadata": {},
   "outputs": [],
   "source": []
  }
 ],
 "metadata": {
  "kernelspec": {
   "display_name": "Python 3 (ipykernel)",
   "language": "python",
   "name": "python3"
  },
  "language_info": {
   "codemirror_mode": {
    "name": "ipython",
    "version": 3
   },
   "file_extension": ".py",
   "mimetype": "text/x-python",
   "name": "python",
   "nbconvert_exporter": "python",
   "pygments_lexer": "ipython3",
   "version": "3.9.19"
  }
 },
 "nbformat": 4,
 "nbformat_minor": 5
}
